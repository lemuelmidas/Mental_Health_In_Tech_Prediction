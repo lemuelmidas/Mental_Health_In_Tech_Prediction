{
 "cells": [
  {
   "cell_type": "code",
   "execution_count": 1,
   "metadata": {},
   "outputs": [],
   "source": [
    "import pandas as pd\n",
    "import matplotlib.pyplot as plt\n",
    "import numpy as np\n",
    "from sklearn.preprocessing import StandardScaler\n",
    "from sklearn.model_selection import train_test_split"
   ]
  },
  {
   "cell_type": "code",
   "execution_count": 2,
   "metadata": {},
   "outputs": [
    {
     "data": {
      "text/html": [
       "<div>\n",
       "<style scoped>\n",
       "    .dataframe tbody tr th:only-of-type {\n",
       "        vertical-align: middle;\n",
       "    }\n",
       "\n",
       "    .dataframe tbody tr th {\n",
       "        vertical-align: top;\n",
       "    }\n",
       "\n",
       "    .dataframe thead th {\n",
       "        text-align: right;\n",
       "    }\n",
       "</style>\n",
       "<table border=\"1\" class=\"dataframe\">\n",
       "  <thead>\n",
       "    <tr style=\"text-align: right;\">\n",
       "      <th></th>\n",
       "      <th>Timestamp</th>\n",
       "      <th>Age</th>\n",
       "      <th>Gender</th>\n",
       "      <th>Country</th>\n",
       "      <th>state</th>\n",
       "      <th>self_employed</th>\n",
       "      <th>family_history</th>\n",
       "      <th>treatment</th>\n",
       "      <th>work_interfere</th>\n",
       "      <th>no_employees</th>\n",
       "      <th>...</th>\n",
       "      <th>leave</th>\n",
       "      <th>mental_health_consequence</th>\n",
       "      <th>phys_health_consequence</th>\n",
       "      <th>coworkers</th>\n",
       "      <th>supervisor</th>\n",
       "      <th>mental_health_interview</th>\n",
       "      <th>phys_health_interview</th>\n",
       "      <th>mental_vs_physical</th>\n",
       "      <th>obs_consequence</th>\n",
       "      <th>comments</th>\n",
       "    </tr>\n",
       "  </thead>\n",
       "  <tbody>\n",
       "    <tr>\n",
       "      <th>0</th>\n",
       "      <td>2014-08-27 11:29:31</td>\n",
       "      <td>37</td>\n",
       "      <td>Female</td>\n",
       "      <td>United States</td>\n",
       "      <td>IL</td>\n",
       "      <td>NaN</td>\n",
       "      <td>No</td>\n",
       "      <td>Yes</td>\n",
       "      <td>Often</td>\n",
       "      <td>6-25</td>\n",
       "      <td>...</td>\n",
       "      <td>Somewhat easy</td>\n",
       "      <td>No</td>\n",
       "      <td>No</td>\n",
       "      <td>Some of them</td>\n",
       "      <td>Yes</td>\n",
       "      <td>No</td>\n",
       "      <td>Maybe</td>\n",
       "      <td>Yes</td>\n",
       "      <td>No</td>\n",
       "      <td>NaN</td>\n",
       "    </tr>\n",
       "    <tr>\n",
       "      <th>1</th>\n",
       "      <td>2014-08-27 11:29:37</td>\n",
       "      <td>44</td>\n",
       "      <td>M</td>\n",
       "      <td>United States</td>\n",
       "      <td>IN</td>\n",
       "      <td>NaN</td>\n",
       "      <td>No</td>\n",
       "      <td>No</td>\n",
       "      <td>Rarely</td>\n",
       "      <td>More than 1000</td>\n",
       "      <td>...</td>\n",
       "      <td>Don't know</td>\n",
       "      <td>Maybe</td>\n",
       "      <td>No</td>\n",
       "      <td>No</td>\n",
       "      <td>No</td>\n",
       "      <td>No</td>\n",
       "      <td>No</td>\n",
       "      <td>Don't know</td>\n",
       "      <td>No</td>\n",
       "      <td>NaN</td>\n",
       "    </tr>\n",
       "    <tr>\n",
       "      <th>2</th>\n",
       "      <td>2014-08-27 11:29:44</td>\n",
       "      <td>32</td>\n",
       "      <td>Male</td>\n",
       "      <td>Canada</td>\n",
       "      <td>NaN</td>\n",
       "      <td>NaN</td>\n",
       "      <td>No</td>\n",
       "      <td>No</td>\n",
       "      <td>Rarely</td>\n",
       "      <td>6-25</td>\n",
       "      <td>...</td>\n",
       "      <td>Somewhat difficult</td>\n",
       "      <td>No</td>\n",
       "      <td>No</td>\n",
       "      <td>Yes</td>\n",
       "      <td>Yes</td>\n",
       "      <td>Yes</td>\n",
       "      <td>Yes</td>\n",
       "      <td>No</td>\n",
       "      <td>No</td>\n",
       "      <td>NaN</td>\n",
       "    </tr>\n",
       "    <tr>\n",
       "      <th>3</th>\n",
       "      <td>2014-08-27 11:29:46</td>\n",
       "      <td>31</td>\n",
       "      <td>Male</td>\n",
       "      <td>United Kingdom</td>\n",
       "      <td>NaN</td>\n",
       "      <td>NaN</td>\n",
       "      <td>Yes</td>\n",
       "      <td>Yes</td>\n",
       "      <td>Often</td>\n",
       "      <td>26-100</td>\n",
       "      <td>...</td>\n",
       "      <td>Somewhat difficult</td>\n",
       "      <td>Yes</td>\n",
       "      <td>Yes</td>\n",
       "      <td>Some of them</td>\n",
       "      <td>No</td>\n",
       "      <td>Maybe</td>\n",
       "      <td>Maybe</td>\n",
       "      <td>No</td>\n",
       "      <td>Yes</td>\n",
       "      <td>NaN</td>\n",
       "    </tr>\n",
       "    <tr>\n",
       "      <th>4</th>\n",
       "      <td>2014-08-27 11:30:22</td>\n",
       "      <td>31</td>\n",
       "      <td>Male</td>\n",
       "      <td>United States</td>\n",
       "      <td>TX</td>\n",
       "      <td>NaN</td>\n",
       "      <td>No</td>\n",
       "      <td>No</td>\n",
       "      <td>Never</td>\n",
       "      <td>100-500</td>\n",
       "      <td>...</td>\n",
       "      <td>Don't know</td>\n",
       "      <td>No</td>\n",
       "      <td>No</td>\n",
       "      <td>Some of them</td>\n",
       "      <td>Yes</td>\n",
       "      <td>Yes</td>\n",
       "      <td>Yes</td>\n",
       "      <td>Don't know</td>\n",
       "      <td>No</td>\n",
       "      <td>NaN</td>\n",
       "    </tr>\n",
       "  </tbody>\n",
       "</table>\n",
       "<p>5 rows × 27 columns</p>\n",
       "</div>"
      ],
      "text/plain": [
       "             Timestamp  Age  Gender         Country state self_employed  \\\n",
       "0  2014-08-27 11:29:31   37  Female   United States    IL           NaN   \n",
       "1  2014-08-27 11:29:37   44       M   United States    IN           NaN   \n",
       "2  2014-08-27 11:29:44   32    Male          Canada   NaN           NaN   \n",
       "3  2014-08-27 11:29:46   31    Male  United Kingdom   NaN           NaN   \n",
       "4  2014-08-27 11:30:22   31    Male   United States    TX           NaN   \n",
       "\n",
       "  family_history treatment work_interfere    no_employees  ...  \\\n",
       "0             No       Yes          Often            6-25  ...   \n",
       "1             No        No         Rarely  More than 1000  ...   \n",
       "2             No        No         Rarely            6-25  ...   \n",
       "3            Yes       Yes          Often          26-100  ...   \n",
       "4             No        No          Never         100-500  ...   \n",
       "\n",
       "                leave mental_health_consequence phys_health_consequence  \\\n",
       "0       Somewhat easy                        No                      No   \n",
       "1          Don't know                     Maybe                      No   \n",
       "2  Somewhat difficult                        No                      No   \n",
       "3  Somewhat difficult                       Yes                     Yes   \n",
       "4          Don't know                        No                      No   \n",
       "\n",
       "      coworkers supervisor mental_health_interview phys_health_interview  \\\n",
       "0  Some of them        Yes                      No                 Maybe   \n",
       "1            No         No                      No                    No   \n",
       "2           Yes        Yes                     Yes                   Yes   \n",
       "3  Some of them         No                   Maybe                 Maybe   \n",
       "4  Some of them        Yes                     Yes                   Yes   \n",
       "\n",
       "  mental_vs_physical obs_consequence comments  \n",
       "0                Yes              No      NaN  \n",
       "1         Don't know              No      NaN  \n",
       "2                 No              No      NaN  \n",
       "3                 No             Yes      NaN  \n",
       "4         Don't know              No      NaN  \n",
       "\n",
       "[5 rows x 27 columns]"
      ]
     },
     "execution_count": 2,
     "metadata": {},
     "output_type": "execute_result"
    }
   ],
   "source": [
    "data= pd.read_csv(\"C:/Users/Wommack/Desktop/ML/survey.csv\")\n",
    "data.head()"
   ]
  },
  {
   "cell_type": "code",
   "execution_count": 3,
   "metadata": {},
   "outputs": [
    {
     "data": {
      "text/plain": [
       "Timestamp                       0\n",
       "Age                             0\n",
       "Gender                          0\n",
       "Country                         0\n",
       "state                         515\n",
       "self_employed                  18\n",
       "family_history                  0\n",
       "treatment                       0\n",
       "work_interfere                264\n",
       "no_employees                    0\n",
       "remote_work                     0\n",
       "tech_company                    0\n",
       "benefits                        0\n",
       "care_options                    0\n",
       "wellness_program                0\n",
       "seek_help                       0\n",
       "anonymity                       0\n",
       "leave                           0\n",
       "mental_health_consequence       0\n",
       "phys_health_consequence         0\n",
       "coworkers                       0\n",
       "supervisor                      0\n",
       "mental_health_interview         0\n",
       "phys_health_interview           0\n",
       "mental_vs_physical              0\n",
       "obs_consequence                 0\n",
       "comments                     1095\n",
       "dtype: int64"
      ]
     },
     "execution_count": 3,
     "metadata": {},
     "output_type": "execute_result"
    }
   ],
   "source": [
    "data.isna().sum()"
   ]
  },
  {
   "cell_type": "code",
   "execution_count": 4,
   "metadata": {},
   "outputs": [
    {
     "name": "stdout",
     "output_type": "stream",
     "text": [
      "<class 'pandas.core.frame.DataFrame'>\n",
      "RangeIndex: 1259 entries, 0 to 1258\n",
      "Data columns (total 27 columns):\n",
      " #   Column                     Non-Null Count  Dtype \n",
      "---  ------                     --------------  ----- \n",
      " 0   Timestamp                  1259 non-null   object\n",
      " 1   Age                        1259 non-null   int64 \n",
      " 2   Gender                     1259 non-null   object\n",
      " 3   Country                    1259 non-null   object\n",
      " 4   state                      744 non-null    object\n",
      " 5   self_employed              1241 non-null   object\n",
      " 6   family_history             1259 non-null   object\n",
      " 7   treatment                  1259 non-null   object\n",
      " 8   work_interfere             995 non-null    object\n",
      " 9   no_employees               1259 non-null   object\n",
      " 10  remote_work                1259 non-null   object\n",
      " 11  tech_company               1259 non-null   object\n",
      " 12  benefits                   1259 non-null   object\n",
      " 13  care_options               1259 non-null   object\n",
      " 14  wellness_program           1259 non-null   object\n",
      " 15  seek_help                  1259 non-null   object\n",
      " 16  anonymity                  1259 non-null   object\n",
      " 17  leave                      1259 non-null   object\n",
      " 18  mental_health_consequence  1259 non-null   object\n",
      " 19  phys_health_consequence    1259 non-null   object\n",
      " 20  coworkers                  1259 non-null   object\n",
      " 21  supervisor                 1259 non-null   object\n",
      " 22  mental_health_interview    1259 non-null   object\n",
      " 23  phys_health_interview      1259 non-null   object\n",
      " 24  mental_vs_physical         1259 non-null   object\n",
      " 25  obs_consequence            1259 non-null   object\n",
      " 26  comments                   164 non-null    object\n",
      "dtypes: int64(1), object(26)\n",
      "memory usage: 265.7+ KB\n"
     ]
    }
   ],
   "source": [
    "data.info()"
   ]
  },
  {
   "cell_type": "code",
   "execution_count": 5,
   "metadata": {},
   "outputs": [
    {
     "data": {
      "text/plain": [
       "Timestamp                    0.000000\n",
       "Age                          0.000000\n",
       "Gender                       0.000000\n",
       "Country                      0.000000\n",
       "state                        0.409055\n",
       "self_employed                0.014297\n",
       "family_history               0.000000\n",
       "treatment                    0.000000\n",
       "work_interfere               0.209690\n",
       "no_employees                 0.000000\n",
       "remote_work                  0.000000\n",
       "tech_company                 0.000000\n",
       "benefits                     0.000000\n",
       "care_options                 0.000000\n",
       "wellness_program             0.000000\n",
       "seek_help                    0.000000\n",
       "anonymity                    0.000000\n",
       "leave                        0.000000\n",
       "mental_health_consequence    0.000000\n",
       "phys_health_consequence      0.000000\n",
       "coworkers                    0.000000\n",
       "supervisor                   0.000000\n",
       "mental_health_interview      0.000000\n",
       "phys_health_interview        0.000000\n",
       "mental_vs_physical           0.000000\n",
       "obs_consequence              0.000000\n",
       "comments                     0.869738\n",
       "dtype: float64"
      ]
     },
     "execution_count": 5,
     "metadata": {},
     "output_type": "execute_result"
    }
   ],
   "source": [
    "data.isna().mean()"
   ]
  },
  {
   "cell_type": "code",
   "execution_count": 6,
   "metadata": {},
   "outputs": [],
   "source": [
    "data=data.drop('comments', axis=1)"
   ]
  },
  {
   "cell_type": "code",
   "execution_count": 7,
   "metadata": {},
   "outputs": [],
   "source": [
    "#data.info()"
   ]
  },
  {
   "cell_type": "code",
   "execution_count": 8,
   "metadata": {},
   "outputs": [
    {
     "data": {
      "text/plain": [
       "array([nan, 'Yes', 'No'], dtype=object)"
      ]
     },
     "execution_count": 8,
     "metadata": {},
     "output_type": "execute_result"
    }
   ],
   "source": [
    "data['self_employed'].unique()"
   ]
  },
  {
   "cell_type": "code",
   "execution_count": 9,
   "metadata": {},
   "outputs": [
    {
     "data": {
      "text/plain": [
       "0    No\n",
       "dtype: object"
      ]
     },
     "execution_count": 9,
     "metadata": {},
     "output_type": "execute_result"
    }
   ],
   "source": [
    "data['self_employed'].mode()"
   ]
  },
  {
   "cell_type": "code",
   "execution_count": 10,
   "metadata": {},
   "outputs": [],
   "source": [
    "data['self_employed']=data['self_employed'].fillna('No')\n",
    "#data.info()"
   ]
  },
  {
   "cell_type": "code",
   "execution_count": 11,
   "metadata": {},
   "outputs": [
    {
     "data": {
      "text/plain": [
       "array(['Often', 'Rarely', 'Never', 'Sometimes', nan], dtype=object)"
      ]
     },
     "execution_count": 11,
     "metadata": {},
     "output_type": "execute_result"
    }
   ],
   "source": [
    "data['work_interfere'].unique()"
   ]
  },
  {
   "cell_type": "code",
   "execution_count": 12,
   "metadata": {},
   "outputs": [
    {
     "data": {
      "text/plain": [
       "0    Sometimes\n",
       "dtype: object"
      ]
     },
     "execution_count": 12,
     "metadata": {},
     "output_type": "execute_result"
    }
   ],
   "source": [
    "data['work_interfere'].mode()"
   ]
  },
  {
   "cell_type": "code",
   "execution_count": 13,
   "metadata": {},
   "outputs": [],
   "source": [
    "data['work_interfere']= data['work_interfere'].fillna('Sometimes')\n",
    "#data.info()"
   ]
  },
  {
   "cell_type": "code",
   "execution_count": 14,
   "metadata": {},
   "outputs": [
    {
     "name": "stdout",
     "output_type": "stream",
     "text": [
      "<class 'pandas.core.frame.DataFrame'>\n",
      "RangeIndex: 1259 entries, 0 to 1258\n",
      "Data columns (total 25 columns):\n",
      " #   Column                     Non-Null Count  Dtype \n",
      "---  ------                     --------------  ----- \n",
      " 0   Age                        1259 non-null   int64 \n",
      " 1   Gender                     1259 non-null   object\n",
      " 2   Country                    1259 non-null   object\n",
      " 3   state                      744 non-null    object\n",
      " 4   self_employed              1259 non-null   object\n",
      " 5   family_history             1259 non-null   object\n",
      " 6   treatment                  1259 non-null   object\n",
      " 7   work_interfere             1259 non-null   object\n",
      " 8   no_employees               1259 non-null   object\n",
      " 9   remote_work                1259 non-null   object\n",
      " 10  tech_company               1259 non-null   object\n",
      " 11  benefits                   1259 non-null   object\n",
      " 12  care_options               1259 non-null   object\n",
      " 13  wellness_program           1259 non-null   object\n",
      " 14  seek_help                  1259 non-null   object\n",
      " 15  anonymity                  1259 non-null   object\n",
      " 16  leave                      1259 non-null   object\n",
      " 17  mental_health_consequence  1259 non-null   object\n",
      " 18  phys_health_consequence    1259 non-null   object\n",
      " 19  coworkers                  1259 non-null   object\n",
      " 20  supervisor                 1259 non-null   object\n",
      " 21  mental_health_interview    1259 non-null   object\n",
      " 22  phys_health_interview      1259 non-null   object\n",
      " 23  mental_vs_physical         1259 non-null   object\n",
      " 24  obs_consequence            1259 non-null   object\n",
      "dtypes: int64(1), object(24)\n",
      "memory usage: 246.0+ KB\n"
     ]
    }
   ],
   "source": [
    "data=data.drop('Timestamp', axis=1)\n",
    "data.info()"
   ]
  },
  {
   "cell_type": "code",
   "execution_count": 15,
   "metadata": {},
   "outputs": [
    {
     "data": {
      "text/plain": [
       "{'Gender': 49,\n",
       " 'Country': 48,\n",
       " 'state': 46,\n",
       " 'self_employed': 2,\n",
       " 'family_history': 2,\n",
       " 'treatment': 2,\n",
       " 'work_interfere': 4,\n",
       " 'no_employees': 6,\n",
       " 'remote_work': 2,\n",
       " 'tech_company': 2,\n",
       " 'benefits': 3,\n",
       " 'care_options': 3,\n",
       " 'wellness_program': 3,\n",
       " 'seek_help': 3,\n",
       " 'anonymity': 3,\n",
       " 'leave': 5,\n",
       " 'mental_health_consequence': 3,\n",
       " 'phys_health_consequence': 3,\n",
       " 'coworkers': 3,\n",
       " 'supervisor': 3,\n",
       " 'mental_health_interview': 3,\n",
       " 'phys_health_interview': 3,\n",
       " 'mental_vs_physical': 3,\n",
       " 'obs_consequence': 2}"
      ]
     },
     "execution_count": 15,
     "metadata": {},
     "output_type": "execute_result"
    }
   ],
   "source": [
    "{column: len(data[column].unique()) for column in data.select_dtypes('object').columns}"
   ]
  },
  {
   "cell_type": "code",
   "execution_count": 16,
   "metadata": {},
   "outputs": [
    {
     "data": {
      "text/plain": [
       "{'Gender': ['Female',\n",
       "  'M',\n",
       "  'Male',\n",
       "  'male',\n",
       "  'female',\n",
       "  'm',\n",
       "  'Male-ish',\n",
       "  'maile',\n",
       "  'Trans-female',\n",
       "  'Cis Female',\n",
       "  'F',\n",
       "  'something kinda male?',\n",
       "  'Cis Male',\n",
       "  'Woman',\n",
       "  'f',\n",
       "  'Mal',\n",
       "  'Male (CIS)',\n",
       "  'queer/she/they',\n",
       "  'non-binary',\n",
       "  'Femake',\n",
       "  'woman',\n",
       "  'Make',\n",
       "  'Nah',\n",
       "  'All',\n",
       "  'Enby',\n",
       "  'fluid',\n",
       "  'Genderqueer',\n",
       "  'Female ',\n",
       "  'Androgyne',\n",
       "  'Agender',\n",
       "  'cis-female/femme',\n",
       "  'Guy (-ish) ^_^',\n",
       "  'male leaning androgynous',\n",
       "  'Male ',\n",
       "  'Man',\n",
       "  'Trans woman',\n",
       "  'msle',\n",
       "  'Neuter',\n",
       "  'Female (trans)',\n",
       "  'queer',\n",
       "  'Female (cis)',\n",
       "  'Mail',\n",
       "  'cis male',\n",
       "  'A little about you',\n",
       "  'Malr',\n",
       "  'p',\n",
       "  'femail',\n",
       "  'Cis Man',\n",
       "  'ostensibly male, unsure what that really means'],\n",
       " 'Country': ['United States',\n",
       "  'Canada',\n",
       "  'United Kingdom',\n",
       "  'Bulgaria',\n",
       "  'France',\n",
       "  'Portugal',\n",
       "  'Netherlands',\n",
       "  'Switzerland',\n",
       "  'Poland',\n",
       "  'Australia',\n",
       "  'Germany',\n",
       "  'Russia',\n",
       "  'Mexico',\n",
       "  'Brazil',\n",
       "  'Slovenia',\n",
       "  'Costa Rica',\n",
       "  'Austria',\n",
       "  'Ireland',\n",
       "  'India',\n",
       "  'South Africa',\n",
       "  'Italy',\n",
       "  'Sweden',\n",
       "  'Colombia',\n",
       "  'Latvia',\n",
       "  'Romania',\n",
       "  'Belgium',\n",
       "  'New Zealand',\n",
       "  'Zimbabwe',\n",
       "  'Spain',\n",
       "  'Finland',\n",
       "  'Uruguay',\n",
       "  'Israel',\n",
       "  'Bosnia and Herzegovina',\n",
       "  'Hungary',\n",
       "  'Singapore',\n",
       "  'Japan',\n",
       "  'Nigeria',\n",
       "  'Croatia',\n",
       "  'Norway',\n",
       "  'Thailand',\n",
       "  'Denmark',\n",
       "  'Bahamas, The',\n",
       "  'Greece',\n",
       "  'Moldova',\n",
       "  'Georgia',\n",
       "  'China',\n",
       "  'Czech Republic',\n",
       "  'Philippines'],\n",
       " 'state': ['IL',\n",
       "  'IN',\n",
       "  nan,\n",
       "  'TX',\n",
       "  'TN',\n",
       "  'MI',\n",
       "  'OH',\n",
       "  'CA',\n",
       "  'CT',\n",
       "  'MD',\n",
       "  'NY',\n",
       "  'NC',\n",
       "  'MA',\n",
       "  'IA',\n",
       "  'PA',\n",
       "  'WA',\n",
       "  'WI',\n",
       "  'UT',\n",
       "  'NM',\n",
       "  'OR',\n",
       "  'FL',\n",
       "  'MN',\n",
       "  'MO',\n",
       "  'AZ',\n",
       "  'CO',\n",
       "  'GA',\n",
       "  'DC',\n",
       "  'NE',\n",
       "  'WV',\n",
       "  'OK',\n",
       "  'KS',\n",
       "  'VA',\n",
       "  'NH',\n",
       "  'KY',\n",
       "  'AL',\n",
       "  'NV',\n",
       "  'NJ',\n",
       "  'SC',\n",
       "  'VT',\n",
       "  'SD',\n",
       "  'ID',\n",
       "  'MS',\n",
       "  'RI',\n",
       "  'WY',\n",
       "  'LA',\n",
       "  'ME'],\n",
       " 'self_employed': ['No', 'Yes'],\n",
       " 'family_history': ['No', 'Yes'],\n",
       " 'treatment': ['Yes', 'No'],\n",
       " 'work_interfere': ['Often', 'Rarely', 'Never', 'Sometimes'],\n",
       " 'no_employees': ['6-25',\n",
       "  'More than 1000',\n",
       "  '26-100',\n",
       "  '100-500',\n",
       "  '1-5',\n",
       "  '500-1000'],\n",
       " 'remote_work': ['No', 'Yes'],\n",
       " 'tech_company': ['Yes', 'No'],\n",
       " 'benefits': ['Yes', \"Don't know\", 'No'],\n",
       " 'care_options': ['Not sure', 'No', 'Yes'],\n",
       " 'wellness_program': ['No', \"Don't know\", 'Yes'],\n",
       " 'seek_help': ['Yes', \"Don't know\", 'No'],\n",
       " 'anonymity': ['Yes', \"Don't know\", 'No'],\n",
       " 'leave': ['Somewhat easy',\n",
       "  \"Don't know\",\n",
       "  'Somewhat difficult',\n",
       "  'Very difficult',\n",
       "  'Very easy'],\n",
       " 'mental_health_consequence': ['No', 'Maybe', 'Yes'],\n",
       " 'phys_health_consequence': ['No', 'Yes', 'Maybe'],\n",
       " 'coworkers': ['Some of them', 'No', 'Yes'],\n",
       " 'supervisor': ['Yes', 'No', 'Some of them'],\n",
       " 'mental_health_interview': ['No', 'Yes', 'Maybe'],\n",
       " 'phys_health_interview': ['Maybe', 'No', 'Yes'],\n",
       " 'mental_vs_physical': ['Yes', \"Don't know\", 'No'],\n",
       " 'obs_consequence': ['No', 'Yes']}"
      ]
     },
     "execution_count": 16,
     "metadata": {},
     "output_type": "execute_result"
    }
   ],
   "source": [
    "{column: list(data[column].unique()) for column in data.select_dtypes('object').columns}"
   ]
  },
  {
   "cell_type": "code",
   "execution_count": 17,
   "metadata": {},
   "outputs": [],
   "source": [
    "def encode_gender(x):\n",
    "    if x.lower()[0]== 'f':\n",
    "        return 0\n",
    "    elif x.lower()[0]== 'm':\n",
    "        return 1\n",
    "    else:\n",
    "        return 2"
   ]
  },
  {
   "cell_type": "code",
   "execution_count": 18,
   "metadata": {},
   "outputs": [],
   "source": [
    "data['Gender']= data['Gender'].apply(encode_gender)"
   ]
  },
  {
   "cell_type": "code",
   "execution_count": 19,
   "metadata": {},
   "outputs": [],
   "source": [
    "target= 'treatment'\n",
    "\n",
    "binary_features= [\n",
    "    'self_employed',\n",
    "    'family_history',\n",
    "    'remote_work',\n",
    "    'tech_company',\n",
    "    'obs_consequence'\n",
    "]\n",
    "\n",
    "ordinal_features= [\n",
    "    'work_interfere',\n",
    "    'no_employees'\n",
    "]\n",
    "\n",
    "nominal_features= [\n",
    "    'Country',\n",
    "    'state',\n",
    "    'benefits',\n",
    "    'care_options',\n",
    "    'wellness_program',\n",
    "    'seek_help',\n",
    "    'anonymity',\n",
    "    'leave',\n",
    "    'mental_health_consequence',\n",
    "    'phys_health_consequence',\n",
    "    'coworkers',\n",
    "    'supervisor',\n",
    "    'mental_health_interview',\n",
    "    'phys_health_interview',\n",
    "    'mental_vs_physical'\n",
    "]"
   ]
  },
  {
   "cell_type": "code",
   "execution_count": 20,
   "metadata": {},
   "outputs": [],
   "source": [
    "def binary_encode(df, columns, positive_values):\n",
    "    df=df.copy()\n",
    "    for column, positive_value in zip(columns, positive_values):\n",
    "        df[column]= df[column].apply(lambda x: 1 if x== positive_value else 0)\n",
    "    return df\n",
    "    \n",
    "def ordinal_encode(df, columns, orderings):\n",
    "    df= df.copy()\n",
    "    for column, ordering in zip(columns, orderings):\n",
    "        df[column]= df[column].apply(lambda x: ordering.index(x))\n",
    "    return df\n",
    "\n",
    "def onehot_encode(df, columns,prefixes):\n",
    "    df= df.copy()\n",
    "    for column,prefix in zip(columns,prefixes):\n",
    "        dummies= pd.get_dummies(df[column],prefix)\n",
    "        df= pd.concat([df, dummies], axis=1)\n",
    "        df= df.drop(column, axis=1)\n",
    "    return df\n",
    "\n"
   ]
  },
  {
   "cell_type": "code",
   "execution_count": null,
   "metadata": {},
   "outputs": [],
   "source": []
  },
  {
   "cell_type": "code",
   "execution_count": 21,
   "metadata": {},
   "outputs": [
    {
     "data": {
      "text/html": [
       "<div>\n",
       "<style scoped>\n",
       "    .dataframe tbody tr th:only-of-type {\n",
       "        vertical-align: middle;\n",
       "    }\n",
       "\n",
       "    .dataframe tbody tr th {\n",
       "        vertical-align: top;\n",
       "    }\n",
       "\n",
       "    .dataframe thead th {\n",
       "        text-align: right;\n",
       "    }\n",
       "</style>\n",
       "<table border=\"1\" class=\"dataframe\">\n",
       "  <thead>\n",
       "    <tr style=\"text-align: right;\">\n",
       "      <th></th>\n",
       "      <th>Age</th>\n",
       "      <th>Gender</th>\n",
       "      <th>Country</th>\n",
       "      <th>state</th>\n",
       "      <th>self_employed</th>\n",
       "      <th>family_history</th>\n",
       "      <th>treatment</th>\n",
       "      <th>work_interfere</th>\n",
       "      <th>no_employees</th>\n",
       "      <th>remote_work</th>\n",
       "      <th>...</th>\n",
       "      <th>anonymity</th>\n",
       "      <th>leave</th>\n",
       "      <th>mental_health_consequence</th>\n",
       "      <th>phys_health_consequence</th>\n",
       "      <th>coworkers</th>\n",
       "      <th>supervisor</th>\n",
       "      <th>mental_health_interview</th>\n",
       "      <th>phys_health_interview</th>\n",
       "      <th>mental_vs_physical</th>\n",
       "      <th>obs_consequence</th>\n",
       "    </tr>\n",
       "  </thead>\n",
       "  <tbody>\n",
       "    <tr>\n",
       "      <th>0</th>\n",
       "      <td>37</td>\n",
       "      <td>0</td>\n",
       "      <td>United States</td>\n",
       "      <td>IL</td>\n",
       "      <td>No</td>\n",
       "      <td>No</td>\n",
       "      <td>Yes</td>\n",
       "      <td>Often</td>\n",
       "      <td>6-25</td>\n",
       "      <td>No</td>\n",
       "      <td>...</td>\n",
       "      <td>Yes</td>\n",
       "      <td>Somewhat easy</td>\n",
       "      <td>No</td>\n",
       "      <td>No</td>\n",
       "      <td>Some of them</td>\n",
       "      <td>Yes</td>\n",
       "      <td>No</td>\n",
       "      <td>Maybe</td>\n",
       "      <td>Yes</td>\n",
       "      <td>No</td>\n",
       "    </tr>\n",
       "    <tr>\n",
       "      <th>1</th>\n",
       "      <td>44</td>\n",
       "      <td>1</td>\n",
       "      <td>United States</td>\n",
       "      <td>IN</td>\n",
       "      <td>No</td>\n",
       "      <td>No</td>\n",
       "      <td>No</td>\n",
       "      <td>Rarely</td>\n",
       "      <td>More than 1000</td>\n",
       "      <td>No</td>\n",
       "      <td>...</td>\n",
       "      <td>Don't know</td>\n",
       "      <td>Don't know</td>\n",
       "      <td>Maybe</td>\n",
       "      <td>No</td>\n",
       "      <td>No</td>\n",
       "      <td>No</td>\n",
       "      <td>No</td>\n",
       "      <td>No</td>\n",
       "      <td>Don't know</td>\n",
       "      <td>No</td>\n",
       "    </tr>\n",
       "    <tr>\n",
       "      <th>2</th>\n",
       "      <td>32</td>\n",
       "      <td>1</td>\n",
       "      <td>Canada</td>\n",
       "      <td>NaN</td>\n",
       "      <td>No</td>\n",
       "      <td>No</td>\n",
       "      <td>No</td>\n",
       "      <td>Rarely</td>\n",
       "      <td>6-25</td>\n",
       "      <td>No</td>\n",
       "      <td>...</td>\n",
       "      <td>Don't know</td>\n",
       "      <td>Somewhat difficult</td>\n",
       "      <td>No</td>\n",
       "      <td>No</td>\n",
       "      <td>Yes</td>\n",
       "      <td>Yes</td>\n",
       "      <td>Yes</td>\n",
       "      <td>Yes</td>\n",
       "      <td>No</td>\n",
       "      <td>No</td>\n",
       "    </tr>\n",
       "    <tr>\n",
       "      <th>3</th>\n",
       "      <td>31</td>\n",
       "      <td>1</td>\n",
       "      <td>United Kingdom</td>\n",
       "      <td>NaN</td>\n",
       "      <td>No</td>\n",
       "      <td>Yes</td>\n",
       "      <td>Yes</td>\n",
       "      <td>Often</td>\n",
       "      <td>26-100</td>\n",
       "      <td>No</td>\n",
       "      <td>...</td>\n",
       "      <td>No</td>\n",
       "      <td>Somewhat difficult</td>\n",
       "      <td>Yes</td>\n",
       "      <td>Yes</td>\n",
       "      <td>Some of them</td>\n",
       "      <td>No</td>\n",
       "      <td>Maybe</td>\n",
       "      <td>Maybe</td>\n",
       "      <td>No</td>\n",
       "      <td>Yes</td>\n",
       "    </tr>\n",
       "    <tr>\n",
       "      <th>4</th>\n",
       "      <td>31</td>\n",
       "      <td>1</td>\n",
       "      <td>United States</td>\n",
       "      <td>TX</td>\n",
       "      <td>No</td>\n",
       "      <td>No</td>\n",
       "      <td>No</td>\n",
       "      <td>Never</td>\n",
       "      <td>100-500</td>\n",
       "      <td>Yes</td>\n",
       "      <td>...</td>\n",
       "      <td>Don't know</td>\n",
       "      <td>Don't know</td>\n",
       "      <td>No</td>\n",
       "      <td>No</td>\n",
       "      <td>Some of them</td>\n",
       "      <td>Yes</td>\n",
       "      <td>Yes</td>\n",
       "      <td>Yes</td>\n",
       "      <td>Don't know</td>\n",
       "      <td>No</td>\n",
       "    </tr>\n",
       "    <tr>\n",
       "      <th>5</th>\n",
       "      <td>33</td>\n",
       "      <td>1</td>\n",
       "      <td>United States</td>\n",
       "      <td>TN</td>\n",
       "      <td>No</td>\n",
       "      <td>Yes</td>\n",
       "      <td>No</td>\n",
       "      <td>Sometimes</td>\n",
       "      <td>6-25</td>\n",
       "      <td>No</td>\n",
       "      <td>...</td>\n",
       "      <td>Don't know</td>\n",
       "      <td>Don't know</td>\n",
       "      <td>No</td>\n",
       "      <td>No</td>\n",
       "      <td>Yes</td>\n",
       "      <td>Yes</td>\n",
       "      <td>No</td>\n",
       "      <td>Maybe</td>\n",
       "      <td>Don't know</td>\n",
       "      <td>No</td>\n",
       "    </tr>\n",
       "    <tr>\n",
       "      <th>6</th>\n",
       "      <td>35</td>\n",
       "      <td>0</td>\n",
       "      <td>United States</td>\n",
       "      <td>MI</td>\n",
       "      <td>No</td>\n",
       "      <td>Yes</td>\n",
       "      <td>Yes</td>\n",
       "      <td>Sometimes</td>\n",
       "      <td>1-5</td>\n",
       "      <td>Yes</td>\n",
       "      <td>...</td>\n",
       "      <td>No</td>\n",
       "      <td>Somewhat difficult</td>\n",
       "      <td>Maybe</td>\n",
       "      <td>Maybe</td>\n",
       "      <td>Some of them</td>\n",
       "      <td>No</td>\n",
       "      <td>No</td>\n",
       "      <td>No</td>\n",
       "      <td>Don't know</td>\n",
       "      <td>No</td>\n",
       "    </tr>\n",
       "    <tr>\n",
       "      <th>7</th>\n",
       "      <td>39</td>\n",
       "      <td>1</td>\n",
       "      <td>Canada</td>\n",
       "      <td>NaN</td>\n",
       "      <td>No</td>\n",
       "      <td>No</td>\n",
       "      <td>No</td>\n",
       "      <td>Never</td>\n",
       "      <td>1-5</td>\n",
       "      <td>Yes</td>\n",
       "      <td>...</td>\n",
       "      <td>Yes</td>\n",
       "      <td>Don't know</td>\n",
       "      <td>No</td>\n",
       "      <td>No</td>\n",
       "      <td>No</td>\n",
       "      <td>No</td>\n",
       "      <td>No</td>\n",
       "      <td>No</td>\n",
       "      <td>No</td>\n",
       "      <td>No</td>\n",
       "    </tr>\n",
       "    <tr>\n",
       "      <th>8</th>\n",
       "      <td>42</td>\n",
       "      <td>0</td>\n",
       "      <td>United States</td>\n",
       "      <td>IL</td>\n",
       "      <td>No</td>\n",
       "      <td>Yes</td>\n",
       "      <td>Yes</td>\n",
       "      <td>Sometimes</td>\n",
       "      <td>100-500</td>\n",
       "      <td>No</td>\n",
       "      <td>...</td>\n",
       "      <td>No</td>\n",
       "      <td>Very difficult</td>\n",
       "      <td>Maybe</td>\n",
       "      <td>No</td>\n",
       "      <td>Yes</td>\n",
       "      <td>Yes</td>\n",
       "      <td>No</td>\n",
       "      <td>Maybe</td>\n",
       "      <td>No</td>\n",
       "      <td>No</td>\n",
       "    </tr>\n",
       "    <tr>\n",
       "      <th>9</th>\n",
       "      <td>23</td>\n",
       "      <td>1</td>\n",
       "      <td>Canada</td>\n",
       "      <td>NaN</td>\n",
       "      <td>No</td>\n",
       "      <td>No</td>\n",
       "      <td>No</td>\n",
       "      <td>Never</td>\n",
       "      <td>26-100</td>\n",
       "      <td>No</td>\n",
       "      <td>...</td>\n",
       "      <td>Don't know</td>\n",
       "      <td>Don't know</td>\n",
       "      <td>No</td>\n",
       "      <td>No</td>\n",
       "      <td>Yes</td>\n",
       "      <td>Yes</td>\n",
       "      <td>Maybe</td>\n",
       "      <td>Maybe</td>\n",
       "      <td>Yes</td>\n",
       "      <td>No</td>\n",
       "    </tr>\n",
       "  </tbody>\n",
       "</table>\n",
       "<p>10 rows × 25 columns</p>\n",
       "</div>"
      ],
      "text/plain": [
       "   Age  Gender         Country state self_employed family_history treatment  \\\n",
       "0   37       0   United States    IL            No             No       Yes   \n",
       "1   44       1   United States    IN            No             No        No   \n",
       "2   32       1          Canada   NaN            No             No        No   \n",
       "3   31       1  United Kingdom   NaN            No            Yes       Yes   \n",
       "4   31       1   United States    TX            No             No        No   \n",
       "5   33       1   United States    TN            No            Yes        No   \n",
       "6   35       0   United States    MI            No            Yes       Yes   \n",
       "7   39       1          Canada   NaN            No             No        No   \n",
       "8   42       0   United States    IL            No            Yes       Yes   \n",
       "9   23       1          Canada   NaN            No             No        No   \n",
       "\n",
       "  work_interfere    no_employees remote_work  ...   anonymity  \\\n",
       "0          Often            6-25          No  ...         Yes   \n",
       "1         Rarely  More than 1000          No  ...  Don't know   \n",
       "2         Rarely            6-25          No  ...  Don't know   \n",
       "3          Often          26-100          No  ...          No   \n",
       "4          Never         100-500         Yes  ...  Don't know   \n",
       "5      Sometimes            6-25          No  ...  Don't know   \n",
       "6      Sometimes             1-5         Yes  ...          No   \n",
       "7          Never             1-5         Yes  ...         Yes   \n",
       "8      Sometimes         100-500          No  ...          No   \n",
       "9          Never          26-100          No  ...  Don't know   \n",
       "\n",
       "                leave mental_health_consequence phys_health_consequence  \\\n",
       "0       Somewhat easy                        No                      No   \n",
       "1          Don't know                     Maybe                      No   \n",
       "2  Somewhat difficult                        No                      No   \n",
       "3  Somewhat difficult                       Yes                     Yes   \n",
       "4          Don't know                        No                      No   \n",
       "5          Don't know                        No                      No   \n",
       "6  Somewhat difficult                     Maybe                   Maybe   \n",
       "7          Don't know                        No                      No   \n",
       "8      Very difficult                     Maybe                      No   \n",
       "9          Don't know                        No                      No   \n",
       "\n",
       "      coworkers supervisor mental_health_interview phys_health_interview  \\\n",
       "0  Some of them        Yes                      No                 Maybe   \n",
       "1            No         No                      No                    No   \n",
       "2           Yes        Yes                     Yes                   Yes   \n",
       "3  Some of them         No                   Maybe                 Maybe   \n",
       "4  Some of them        Yes                     Yes                   Yes   \n",
       "5           Yes        Yes                      No                 Maybe   \n",
       "6  Some of them         No                      No                    No   \n",
       "7            No         No                      No                    No   \n",
       "8           Yes        Yes                      No                 Maybe   \n",
       "9           Yes        Yes                   Maybe                 Maybe   \n",
       "\n",
       "  mental_vs_physical obs_consequence  \n",
       "0                Yes              No  \n",
       "1         Don't know              No  \n",
       "2                 No              No  \n",
       "3                 No             Yes  \n",
       "4         Don't know              No  \n",
       "5         Don't know              No  \n",
       "6         Don't know              No  \n",
       "7                 No              No  \n",
       "8                 No              No  \n",
       "9                Yes              No  \n",
       "\n",
       "[10 rows x 25 columns]"
      ]
     },
     "execution_count": 21,
     "metadata": {},
     "output_type": "execute_result"
    }
   ],
   "source": [
    "data.head(10)"
   ]
  },
  {
   "cell_type": "code",
   "execution_count": 22,
   "metadata": {},
   "outputs": [],
   "source": [
    "binary_positive_values= ['Yes' for feature in binary_features ]\n",
    "\n",
    "ordinal_orderings= [\n",
    "    ['Never', 'Rarely', 'Sometimes', 'Often'],\n",
    "    ['1-5', '6-25', '26-100', '100-500', '500-1000', 'More than 1000']\n",
    "]\n",
    "nominal_prefixes=[\n",
    "    'co',\n",
    "    'st',\n",
    "    'be',\n",
    "    'ca',\n",
    "    'we',\n",
    "    'se',\n",
    "    'an',\n",
    "    'le',\n",
    "    'mc',\n",
    "    'ph',\n",
    "    'cw',\n",
    "    'su',\n",
    "    'mi',\n",
    "    'pi',\n",
    "    'mp'\n",
    "]\n"
   ]
  },
  {
   "cell_type": "code",
   "execution_count": 23,
   "metadata": {},
   "outputs": [],
   "source": [
    "\n",
    "\n",
    "data= binary_encode(\n",
    "    data,\n",
    "    columns= binary_features,\n",
    "    positive_values= binary_positive_values\n",
    ")\n",
    "\n",
    "data= ordinal_encode(\n",
    "    data,\n",
    "    columns= ordinal_features,\n",
    "    orderings= ordinal_orderings\n",
    ")\n",
    "data= onehot_encode(\n",
    "    data,\n",
    "    columns= nominal_features,\n",
    "    prefixes=nominal_prefixes\n",
    ")"
   ]
  },
  {
   "cell_type": "code",
   "execution_count": 24,
   "metadata": {},
   "outputs": [
    {
     "data": {
      "text/html": [
       "<div>\n",
       "<style scoped>\n",
       "    .dataframe tbody tr th:only-of-type {\n",
       "        vertical-align: middle;\n",
       "    }\n",
       "\n",
       "    .dataframe tbody tr th {\n",
       "        vertical-align: top;\n",
       "    }\n",
       "\n",
       "    .dataframe thead th {\n",
       "        text-align: right;\n",
       "    }\n",
       "</style>\n",
       "<table border=\"1\" class=\"dataframe\">\n",
       "  <thead>\n",
       "    <tr style=\"text-align: right;\">\n",
       "      <th></th>\n",
       "      <th>Age</th>\n",
       "      <th>Gender</th>\n",
       "      <th>self_employed</th>\n",
       "      <th>family_history</th>\n",
       "      <th>treatment</th>\n",
       "      <th>work_interfere</th>\n",
       "      <th>no_employees</th>\n",
       "      <th>remote_work</th>\n",
       "      <th>tech_company</th>\n",
       "      <th>obs_consequence</th>\n",
       "      <th>...</th>\n",
       "      <th>su_Yes</th>\n",
       "      <th>mi_Maybe</th>\n",
       "      <th>mi_No</th>\n",
       "      <th>mi_Yes</th>\n",
       "      <th>pi_Maybe</th>\n",
       "      <th>pi_No</th>\n",
       "      <th>pi_Yes</th>\n",
       "      <th>mp_Don't know</th>\n",
       "      <th>mp_No</th>\n",
       "      <th>mp_Yes</th>\n",
       "    </tr>\n",
       "  </thead>\n",
       "  <tbody>\n",
       "    <tr>\n",
       "      <th>0</th>\n",
       "      <td>37</td>\n",
       "      <td>0</td>\n",
       "      <td>0</td>\n",
       "      <td>0</td>\n",
       "      <td>Yes</td>\n",
       "      <td>3</td>\n",
       "      <td>1</td>\n",
       "      <td>0</td>\n",
       "      <td>1</td>\n",
       "      <td>0</td>\n",
       "      <td>...</td>\n",
       "      <td>1</td>\n",
       "      <td>0</td>\n",
       "      <td>1</td>\n",
       "      <td>0</td>\n",
       "      <td>1</td>\n",
       "      <td>0</td>\n",
       "      <td>0</td>\n",
       "      <td>0</td>\n",
       "      <td>0</td>\n",
       "      <td>1</td>\n",
       "    </tr>\n",
       "    <tr>\n",
       "      <th>1</th>\n",
       "      <td>44</td>\n",
       "      <td>1</td>\n",
       "      <td>0</td>\n",
       "      <td>0</td>\n",
       "      <td>No</td>\n",
       "      <td>1</td>\n",
       "      <td>5</td>\n",
       "      <td>0</td>\n",
       "      <td>0</td>\n",
       "      <td>0</td>\n",
       "      <td>...</td>\n",
       "      <td>0</td>\n",
       "      <td>0</td>\n",
       "      <td>1</td>\n",
       "      <td>0</td>\n",
       "      <td>0</td>\n",
       "      <td>1</td>\n",
       "      <td>0</td>\n",
       "      <td>1</td>\n",
       "      <td>0</td>\n",
       "      <td>0</td>\n",
       "    </tr>\n",
       "    <tr>\n",
       "      <th>2</th>\n",
       "      <td>32</td>\n",
       "      <td>1</td>\n",
       "      <td>0</td>\n",
       "      <td>0</td>\n",
       "      <td>No</td>\n",
       "      <td>1</td>\n",
       "      <td>1</td>\n",
       "      <td>0</td>\n",
       "      <td>1</td>\n",
       "      <td>0</td>\n",
       "      <td>...</td>\n",
       "      <td>1</td>\n",
       "      <td>0</td>\n",
       "      <td>0</td>\n",
       "      <td>1</td>\n",
       "      <td>0</td>\n",
       "      <td>0</td>\n",
       "      <td>1</td>\n",
       "      <td>0</td>\n",
       "      <td>1</td>\n",
       "      <td>0</td>\n",
       "    </tr>\n",
       "    <tr>\n",
       "      <th>3</th>\n",
       "      <td>31</td>\n",
       "      <td>1</td>\n",
       "      <td>0</td>\n",
       "      <td>1</td>\n",
       "      <td>Yes</td>\n",
       "      <td>3</td>\n",
       "      <td>2</td>\n",
       "      <td>0</td>\n",
       "      <td>1</td>\n",
       "      <td>1</td>\n",
       "      <td>...</td>\n",
       "      <td>0</td>\n",
       "      <td>1</td>\n",
       "      <td>0</td>\n",
       "      <td>0</td>\n",
       "      <td>1</td>\n",
       "      <td>0</td>\n",
       "      <td>0</td>\n",
       "      <td>0</td>\n",
       "      <td>1</td>\n",
       "      <td>0</td>\n",
       "    </tr>\n",
       "    <tr>\n",
       "      <th>4</th>\n",
       "      <td>31</td>\n",
       "      <td>1</td>\n",
       "      <td>0</td>\n",
       "      <td>0</td>\n",
       "      <td>No</td>\n",
       "      <td>0</td>\n",
       "      <td>3</td>\n",
       "      <td>1</td>\n",
       "      <td>1</td>\n",
       "      <td>0</td>\n",
       "      <td>...</td>\n",
       "      <td>1</td>\n",
       "      <td>0</td>\n",
       "      <td>0</td>\n",
       "      <td>1</td>\n",
       "      <td>0</td>\n",
       "      <td>0</td>\n",
       "      <td>1</td>\n",
       "      <td>1</td>\n",
       "      <td>0</td>\n",
       "      <td>0</td>\n",
       "    </tr>\n",
       "  </tbody>\n",
       "</table>\n",
       "<p>5 rows × 144 columns</p>\n",
       "</div>"
      ],
      "text/plain": [
       "   Age  Gender  self_employed  family_history treatment  work_interfere  \\\n",
       "0   37       0              0               0       Yes               3   \n",
       "1   44       1              0               0        No               1   \n",
       "2   32       1              0               0        No               1   \n",
       "3   31       1              0               1       Yes               3   \n",
       "4   31       1              0               0        No               0   \n",
       "\n",
       "   no_employees  remote_work  tech_company  obs_consequence  ...  su_Yes  \\\n",
       "0             1            0             1                0  ...       1   \n",
       "1             5            0             0                0  ...       0   \n",
       "2             1            0             1                0  ...       1   \n",
       "3             2            0             1                1  ...       0   \n",
       "4             3            1             1                0  ...       1   \n",
       "\n",
       "   mi_Maybe  mi_No  mi_Yes  pi_Maybe  pi_No  pi_Yes  mp_Don't know  mp_No  \\\n",
       "0         0      1       0         1      0       0              0      0   \n",
       "1         0      1       0         0      1       0              1      0   \n",
       "2         0      0       1         0      0       1              0      1   \n",
       "3         1      0       0         1      0       0              0      1   \n",
       "4         0      0       1         0      0       1              1      0   \n",
       "\n",
       "   mp_Yes  \n",
       "0       1  \n",
       "1       0  \n",
       "2       0  \n",
       "3       0  \n",
       "4       0  \n",
       "\n",
       "[5 rows x 144 columns]"
      ]
     },
     "execution_count": 24,
     "metadata": {},
     "output_type": "execute_result"
    }
   ],
   "source": [
    "data.head()"
   ]
  },
  {
   "cell_type": "code",
   "execution_count": 25,
   "metadata": {},
   "outputs": [
    {
     "data": {
      "text/html": [
       "<div>\n",
       "<style scoped>\n",
       "    .dataframe tbody tr th:only-of-type {\n",
       "        vertical-align: middle;\n",
       "    }\n",
       "\n",
       "    .dataframe tbody tr th {\n",
       "        vertical-align: top;\n",
       "    }\n",
       "\n",
       "    .dataframe thead th {\n",
       "        text-align: right;\n",
       "    }\n",
       "</style>\n",
       "<table border=\"1\" class=\"dataframe\">\n",
       "  <thead>\n",
       "    <tr style=\"text-align: right;\">\n",
       "      <th></th>\n",
       "      <th>treatment</th>\n",
       "    </tr>\n",
       "  </thead>\n",
       "  <tbody>\n",
       "    <tr>\n",
       "      <th>0</th>\n",
       "      <td>Yes</td>\n",
       "    </tr>\n",
       "    <tr>\n",
       "      <th>1</th>\n",
       "      <td>No</td>\n",
       "    </tr>\n",
       "    <tr>\n",
       "      <th>2</th>\n",
       "      <td>No</td>\n",
       "    </tr>\n",
       "    <tr>\n",
       "      <th>3</th>\n",
       "      <td>Yes</td>\n",
       "    </tr>\n",
       "    <tr>\n",
       "      <th>4</th>\n",
       "      <td>No</td>\n",
       "    </tr>\n",
       "    <tr>\n",
       "      <th>...</th>\n",
       "      <td>...</td>\n",
       "    </tr>\n",
       "    <tr>\n",
       "      <th>1254</th>\n",
       "      <td>Yes</td>\n",
       "    </tr>\n",
       "    <tr>\n",
       "      <th>1255</th>\n",
       "      <td>Yes</td>\n",
       "    </tr>\n",
       "    <tr>\n",
       "      <th>1256</th>\n",
       "      <td>Yes</td>\n",
       "    </tr>\n",
       "    <tr>\n",
       "      <th>1257</th>\n",
       "      <td>No</td>\n",
       "    </tr>\n",
       "    <tr>\n",
       "      <th>1258</th>\n",
       "      <td>Yes</td>\n",
       "    </tr>\n",
       "  </tbody>\n",
       "</table>\n",
       "<p>1259 rows × 1 columns</p>\n",
       "</div>"
      ],
      "text/plain": [
       "     treatment\n",
       "0          Yes\n",
       "1           No\n",
       "2           No\n",
       "3          Yes\n",
       "4           No\n",
       "...        ...\n",
       "1254       Yes\n",
       "1255       Yes\n",
       "1256       Yes\n",
       "1257        No\n",
       "1258       Yes\n",
       "\n",
       "[1259 rows x 1 columns]"
      ]
     },
     "execution_count": 25,
     "metadata": {},
     "output_type": "execute_result"
    }
   ],
   "source": [
    "data.select_dtypes('object')"
   ]
  },
  {
   "cell_type": "code",
   "execution_count": 26,
   "metadata": {},
   "outputs": [
    {
     "data": {
      "text/plain": [
       "0    1\n",
       "1    0\n",
       "2    0\n",
       "3    1\n",
       "4    0\n",
       "Name: treatment, dtype: int64"
      ]
     },
     "execution_count": 26,
     "metadata": {},
     "output_type": "execute_result"
    }
   ],
   "source": [
    "data= binary_encode(data, columns=['treatment'], positive_values=['Yes'])\n",
    "data['treatment'].head()"
   ]
  },
  {
   "cell_type": "code",
   "execution_count": 27,
   "metadata": {},
   "outputs": [
    {
     "data": {
      "text/html": [
       "<div>\n",
       "<style scoped>\n",
       "    .dataframe tbody tr th:only-of-type {\n",
       "        vertical-align: middle;\n",
       "    }\n",
       "\n",
       "    .dataframe tbody tr th {\n",
       "        vertical-align: top;\n",
       "    }\n",
       "\n",
       "    .dataframe thead th {\n",
       "        text-align: right;\n",
       "    }\n",
       "</style>\n",
       "<table border=\"1\" class=\"dataframe\">\n",
       "  <thead>\n",
       "    <tr style=\"text-align: right;\">\n",
       "      <th></th>\n",
       "      <th>Age</th>\n",
       "      <th>Gender</th>\n",
       "      <th>self_employed</th>\n",
       "      <th>family_history</th>\n",
       "      <th>treatment</th>\n",
       "      <th>work_interfere</th>\n",
       "      <th>no_employees</th>\n",
       "      <th>remote_work</th>\n",
       "      <th>tech_company</th>\n",
       "      <th>obs_consequence</th>\n",
       "      <th>...</th>\n",
       "      <th>su_Yes</th>\n",
       "      <th>mi_Maybe</th>\n",
       "      <th>mi_No</th>\n",
       "      <th>mi_Yes</th>\n",
       "      <th>pi_Maybe</th>\n",
       "      <th>pi_No</th>\n",
       "      <th>pi_Yes</th>\n",
       "      <th>mp_Don't know</th>\n",
       "      <th>mp_No</th>\n",
       "      <th>mp_Yes</th>\n",
       "    </tr>\n",
       "  </thead>\n",
       "  <tbody>\n",
       "    <tr>\n",
       "      <th>0</th>\n",
       "      <td>37</td>\n",
       "      <td>0</td>\n",
       "      <td>0</td>\n",
       "      <td>0</td>\n",
       "      <td>1</td>\n",
       "      <td>3</td>\n",
       "      <td>1</td>\n",
       "      <td>0</td>\n",
       "      <td>1</td>\n",
       "      <td>0</td>\n",
       "      <td>...</td>\n",
       "      <td>1</td>\n",
       "      <td>0</td>\n",
       "      <td>1</td>\n",
       "      <td>0</td>\n",
       "      <td>1</td>\n",
       "      <td>0</td>\n",
       "      <td>0</td>\n",
       "      <td>0</td>\n",
       "      <td>0</td>\n",
       "      <td>1</td>\n",
       "    </tr>\n",
       "    <tr>\n",
       "      <th>1</th>\n",
       "      <td>44</td>\n",
       "      <td>1</td>\n",
       "      <td>0</td>\n",
       "      <td>0</td>\n",
       "      <td>0</td>\n",
       "      <td>1</td>\n",
       "      <td>5</td>\n",
       "      <td>0</td>\n",
       "      <td>0</td>\n",
       "      <td>0</td>\n",
       "      <td>...</td>\n",
       "      <td>0</td>\n",
       "      <td>0</td>\n",
       "      <td>1</td>\n",
       "      <td>0</td>\n",
       "      <td>0</td>\n",
       "      <td>1</td>\n",
       "      <td>0</td>\n",
       "      <td>1</td>\n",
       "      <td>0</td>\n",
       "      <td>0</td>\n",
       "    </tr>\n",
       "    <tr>\n",
       "      <th>2</th>\n",
       "      <td>32</td>\n",
       "      <td>1</td>\n",
       "      <td>0</td>\n",
       "      <td>0</td>\n",
       "      <td>0</td>\n",
       "      <td>1</td>\n",
       "      <td>1</td>\n",
       "      <td>0</td>\n",
       "      <td>1</td>\n",
       "      <td>0</td>\n",
       "      <td>...</td>\n",
       "      <td>1</td>\n",
       "      <td>0</td>\n",
       "      <td>0</td>\n",
       "      <td>1</td>\n",
       "      <td>0</td>\n",
       "      <td>0</td>\n",
       "      <td>1</td>\n",
       "      <td>0</td>\n",
       "      <td>1</td>\n",
       "      <td>0</td>\n",
       "    </tr>\n",
       "    <tr>\n",
       "      <th>3</th>\n",
       "      <td>31</td>\n",
       "      <td>1</td>\n",
       "      <td>0</td>\n",
       "      <td>1</td>\n",
       "      <td>1</td>\n",
       "      <td>3</td>\n",
       "      <td>2</td>\n",
       "      <td>0</td>\n",
       "      <td>1</td>\n",
       "      <td>1</td>\n",
       "      <td>...</td>\n",
       "      <td>0</td>\n",
       "      <td>1</td>\n",
       "      <td>0</td>\n",
       "      <td>0</td>\n",
       "      <td>1</td>\n",
       "      <td>0</td>\n",
       "      <td>0</td>\n",
       "      <td>0</td>\n",
       "      <td>1</td>\n",
       "      <td>0</td>\n",
       "    </tr>\n",
       "    <tr>\n",
       "      <th>4</th>\n",
       "      <td>31</td>\n",
       "      <td>1</td>\n",
       "      <td>0</td>\n",
       "      <td>0</td>\n",
       "      <td>0</td>\n",
       "      <td>0</td>\n",
       "      <td>3</td>\n",
       "      <td>1</td>\n",
       "      <td>1</td>\n",
       "      <td>0</td>\n",
       "      <td>...</td>\n",
       "      <td>1</td>\n",
       "      <td>0</td>\n",
       "      <td>0</td>\n",
       "      <td>1</td>\n",
       "      <td>0</td>\n",
       "      <td>0</td>\n",
       "      <td>1</td>\n",
       "      <td>1</td>\n",
       "      <td>0</td>\n",
       "      <td>0</td>\n",
       "    </tr>\n",
       "    <tr>\n",
       "      <th>5</th>\n",
       "      <td>33</td>\n",
       "      <td>1</td>\n",
       "      <td>0</td>\n",
       "      <td>1</td>\n",
       "      <td>0</td>\n",
       "      <td>2</td>\n",
       "      <td>1</td>\n",
       "      <td>0</td>\n",
       "      <td>1</td>\n",
       "      <td>0</td>\n",
       "      <td>...</td>\n",
       "      <td>1</td>\n",
       "      <td>0</td>\n",
       "      <td>1</td>\n",
       "      <td>0</td>\n",
       "      <td>1</td>\n",
       "      <td>0</td>\n",
       "      <td>0</td>\n",
       "      <td>1</td>\n",
       "      <td>0</td>\n",
       "      <td>0</td>\n",
       "    </tr>\n",
       "    <tr>\n",
       "      <th>6</th>\n",
       "      <td>35</td>\n",
       "      <td>0</td>\n",
       "      <td>0</td>\n",
       "      <td>1</td>\n",
       "      <td>1</td>\n",
       "      <td>2</td>\n",
       "      <td>0</td>\n",
       "      <td>1</td>\n",
       "      <td>1</td>\n",
       "      <td>0</td>\n",
       "      <td>...</td>\n",
       "      <td>0</td>\n",
       "      <td>0</td>\n",
       "      <td>1</td>\n",
       "      <td>0</td>\n",
       "      <td>0</td>\n",
       "      <td>1</td>\n",
       "      <td>0</td>\n",
       "      <td>1</td>\n",
       "      <td>0</td>\n",
       "      <td>0</td>\n",
       "    </tr>\n",
       "    <tr>\n",
       "      <th>7</th>\n",
       "      <td>39</td>\n",
       "      <td>1</td>\n",
       "      <td>0</td>\n",
       "      <td>0</td>\n",
       "      <td>0</td>\n",
       "      <td>0</td>\n",
       "      <td>0</td>\n",
       "      <td>1</td>\n",
       "      <td>1</td>\n",
       "      <td>0</td>\n",
       "      <td>...</td>\n",
       "      <td>0</td>\n",
       "      <td>0</td>\n",
       "      <td>1</td>\n",
       "      <td>0</td>\n",
       "      <td>0</td>\n",
       "      <td>1</td>\n",
       "      <td>0</td>\n",
       "      <td>0</td>\n",
       "      <td>1</td>\n",
       "      <td>0</td>\n",
       "    </tr>\n",
       "    <tr>\n",
       "      <th>8</th>\n",
       "      <td>42</td>\n",
       "      <td>0</td>\n",
       "      <td>0</td>\n",
       "      <td>1</td>\n",
       "      <td>1</td>\n",
       "      <td>2</td>\n",
       "      <td>3</td>\n",
       "      <td>0</td>\n",
       "      <td>1</td>\n",
       "      <td>0</td>\n",
       "      <td>...</td>\n",
       "      <td>1</td>\n",
       "      <td>0</td>\n",
       "      <td>1</td>\n",
       "      <td>0</td>\n",
       "      <td>1</td>\n",
       "      <td>0</td>\n",
       "      <td>0</td>\n",
       "      <td>0</td>\n",
       "      <td>1</td>\n",
       "      <td>0</td>\n",
       "    </tr>\n",
       "    <tr>\n",
       "      <th>9</th>\n",
       "      <td>23</td>\n",
       "      <td>1</td>\n",
       "      <td>0</td>\n",
       "      <td>0</td>\n",
       "      <td>0</td>\n",
       "      <td>0</td>\n",
       "      <td>2</td>\n",
       "      <td>0</td>\n",
       "      <td>1</td>\n",
       "      <td>0</td>\n",
       "      <td>...</td>\n",
       "      <td>1</td>\n",
       "      <td>1</td>\n",
       "      <td>0</td>\n",
       "      <td>0</td>\n",
       "      <td>1</td>\n",
       "      <td>0</td>\n",
       "      <td>0</td>\n",
       "      <td>0</td>\n",
       "      <td>0</td>\n",
       "      <td>1</td>\n",
       "    </tr>\n",
       "  </tbody>\n",
       "</table>\n",
       "<p>10 rows × 144 columns</p>\n",
       "</div>"
      ],
      "text/plain": [
       "   Age  Gender  self_employed  family_history  treatment  work_interfere  \\\n",
       "0   37       0              0               0          1               3   \n",
       "1   44       1              0               0          0               1   \n",
       "2   32       1              0               0          0               1   \n",
       "3   31       1              0               1          1               3   \n",
       "4   31       1              0               0          0               0   \n",
       "5   33       1              0               1          0               2   \n",
       "6   35       0              0               1          1               2   \n",
       "7   39       1              0               0          0               0   \n",
       "8   42       0              0               1          1               2   \n",
       "9   23       1              0               0          0               0   \n",
       "\n",
       "   no_employees  remote_work  tech_company  obs_consequence  ...  su_Yes  \\\n",
       "0             1            0             1                0  ...       1   \n",
       "1             5            0             0                0  ...       0   \n",
       "2             1            0             1                0  ...       1   \n",
       "3             2            0             1                1  ...       0   \n",
       "4             3            1             1                0  ...       1   \n",
       "5             1            0             1                0  ...       1   \n",
       "6             0            1             1                0  ...       0   \n",
       "7             0            1             1                0  ...       0   \n",
       "8             3            0             1                0  ...       1   \n",
       "9             2            0             1                0  ...       1   \n",
       "\n",
       "   mi_Maybe  mi_No  mi_Yes  pi_Maybe  pi_No  pi_Yes  mp_Don't know  mp_No  \\\n",
       "0         0      1       0         1      0       0              0      0   \n",
       "1         0      1       0         0      1       0              1      0   \n",
       "2         0      0       1         0      0       1              0      1   \n",
       "3         1      0       0         1      0       0              0      1   \n",
       "4         0      0       1         0      0       1              1      0   \n",
       "5         0      1       0         1      0       0              1      0   \n",
       "6         0      1       0         0      1       0              1      0   \n",
       "7         0      1       0         0      1       0              0      1   \n",
       "8         0      1       0         1      0       0              0      1   \n",
       "9         1      0       0         1      0       0              0      0   \n",
       "\n",
       "   mp_Yes  \n",
       "0       1  \n",
       "1       0  \n",
       "2       0  \n",
       "3       0  \n",
       "4       0  \n",
       "5       0  \n",
       "6       0  \n",
       "7       0  \n",
       "8       0  \n",
       "9       1  \n",
       "\n",
       "[10 rows x 144 columns]"
      ]
     },
     "execution_count": 27,
     "metadata": {},
     "output_type": "execute_result"
    }
   ],
   "source": [
    "data.head(10)"
   ]
  },
  {
   "cell_type": "markdown",
   "metadata": {},
   "source": [
    "SPLITING AND SCALING"
   ]
  },
  {
   "cell_type": "code",
   "execution_count": 28,
   "metadata": {},
   "outputs": [],
   "source": [
    "y= data['treatment'].copy()\n",
    "X= data.drop('treatment', axis=1).copy()"
   ]
  },
  {
   "cell_type": "code",
   "execution_count": 29,
   "metadata": {},
   "outputs": [],
   "source": [
    "scaler= StandardScaler()\n",
    "X= scaler.fit_transform(X)"
   ]
  },
  {
   "cell_type": "code",
   "execution_count": 30,
   "metadata": {},
   "outputs": [],
   "source": [
    "X_train, X_test, y_train, y_test= train_test_split(X,y, train_size= 0.7, random_state= 100)"
   ]
  },
  {
   "cell_type": "markdown",
   "metadata": {},
   "source": [
    "TRAINING"
   ]
  },
  {
   "cell_type": "code",
   "execution_count": 31,
   "metadata": {},
   "outputs": [
    {
     "data": {
      "text/plain": [
       "(1259, 143)"
      ]
     },
     "execution_count": 31,
     "metadata": {},
     "output_type": "execute_result"
    }
   ],
   "source": [
    "X.shape"
   ]
  },
  {
   "cell_type": "code",
   "execution_count": 32,
   "metadata": {},
   "outputs": [
    {
     "name": "stdout",
     "output_type": "stream",
     "text": [
      "Class Distribution (Positive to Negative): 49.7% / 50.3%\n"
     ]
    }
   ],
   "source": [
    "print('Class Distribution (Positive to Negative): {:.1f}% / {:.1f}%' .format(y_train.mean()* 100, (1-y_train.mean())*100))"
   ]
  },
  {
   "cell_type": "code",
   "execution_count": 33,
   "metadata": {},
   "outputs": [],
   "source": [
    "def MAPE(y_true,y_pred):\n",
    "    y_true, y_pred= np.array(y_true),np.array(y_pred)\n",
    "    return np.mean(np.abs((y_true - y_pred)/ np.maximum(np.ones(len(y_true)), np.abs(y_true))))*100"
   ]
  },
  {
   "cell_type": "code",
   "execution_count": 34,
   "metadata": {},
   "outputs": [],
   "source": [
    "#from catboost import CatBoostRegressor\n",
    "#from lightgbm import LGBMRegressor\n",
    "from sklearn.ensemble import RandomForestRegressor, GradientBoostingRegressor,RandomForestClassifier\n",
    "from sklearn.linear_model import LinearRegression, Ridge, Lasso, ElasticNet\n",
    "from sklearn.model_selection import GridSearchCV, cross_val_score,StratifiedKFold\n",
    "from sklearn.neighbors import KNeighborsRegressor\n",
    "from sklearn.svm import SVR\n",
    "from sklearn.tree import DecisionTreeRegressor\n",
    "#from xgboost import XGBRegressor\n",
    "from sklearn import metrics\n",
    "import random as rd\n",
    "models = [('LR', LinearRegression()),\n",
    "          (\"Ridge\", Ridge()),\n",
    "          (\"Lasso\", Lasso()),\n",
    "          #(\"ElasticNet\", ElasticNet()),\n",
    "          ('KNN', KNeighborsRegressor()),\n",
    "          ('CART', DecisionTreeRegressor()),\n",
    "          ('RF', RandomForestRegressor()),\n",
    "          ('RFC',RandomForestClassifier())\n",
    "          #('SVR', SVR()),\n",
    "          #('GBM', GradientBoostingRegressor()),\n",
    "          #(\"XGBoost\", XGBRegressor(objective='reg:squarederror'))\n",
    "         ]"
   ]
  },
  {
   "cell_type": "code",
   "execution_count": 35,
   "metadata": {},
   "outputs": [
    {
     "name": "stdout",
     "output_type": "stream",
     "text": [
      "MSE: 1.4731762734181152e+27 (LR)\n",
      "RMSE: 38381978497963.27 (LR)\n",
      "RMSE2: 38381978497963.27 (LR)\n",
      "MAE: 4414730824628.631 (LR)\n",
      "MAPE: 441473082462863.06 (LR)\n",
      "r2: -5.90924787768659e+27 (LR)\n",
      "==============================================\n",
      "MSE: 0.2029 (Ridge)\n",
      "RMSE: 0.4504 (Ridge)\n",
      "RMSE2: 0.4504 (Ridge)\n",
      "MAE: 0.3807 (Ridge)\n",
      "MAPE: 38.0719 (Ridge)\n",
      "r2: 0.1863 (Ridge)\n",
      "==============================================\n",
      "MSE: 0.2502 (Lasso)\n",
      "RMSE: 0.5002 (Lasso)\n",
      "RMSE2: 0.5002 (Lasso)\n",
      "MAE: 0.5002 (Lasso)\n",
      "MAPE: 50.015 (Lasso)\n",
      "r2: -0.0034 (Lasso)\n",
      "==============================================\n",
      "MSE: 0.2768 (KNN)\n",
      "RMSE: 0.5261 (KNN)\n",
      "RMSE2: 0.5261 (KNN)\n",
      "MAE: 0.4656 (KNN)\n",
      "MAPE: 46.5608 (KNN)\n",
      "r2: -0.1104 (KNN)\n",
      "==============================================\n",
      "MSE: 0.2857 (CART)\n",
      "RMSE: 0.5345 (CART)\n",
      "RMSE2: 0.5345 (CART)\n",
      "MAE: 0.2857 (CART)\n",
      "MAPE: 28.5714 (CART)\n",
      "r2: -0.1461 (CART)\n",
      "==============================================\n",
      "MSE: 0.1785 (RF)\n",
      "RMSE: 0.4225 (RF)\n",
      "RMSE2: 0.4225 (RF)\n",
      "MAE: 0.3256 (RF)\n",
      "MAPE: 32.5635 (RF)\n",
      "r2: 0.284 (RF)\n",
      "==============================================\n",
      "MSE: 0.2804 (RFC)\n",
      "RMSE: 0.5296 (RFC)\n",
      "RMSE2: 0.5296 (RFC)\n",
      "MAE: 0.2804 (RFC)\n",
      "MAPE: 28.0423 (RFC)\n",
      "r2: -0.1248 (RFC)\n",
      "==============================================\n"
     ]
    }
   ],
   "source": [
    "for name, regressor in models:\n",
    "    modela = regressor\n",
    "    modela.fit(X_train, y_train)\n",
    "    y_pred = modela.predict(X_test)\n",
    "    MSE = metrics.mean_squared_error(y_test,y_pred)\n",
    "    RMSE = np.sqrt(MSE)\n",
    "    RMSE2=metrics.mean_squared_error(y_test,y_pred, squared=False)\n",
    "    MAE = metrics.mean_absolute_error(y_test,y_pred)\n",
    "    M_A_P_E = MAPE(y_test,y_pred)\n",
    "    r2=metrics.r2_score(y_test,y_pred)\n",
    "    print(f\"MSE: {round(MSE, 4)} ({name})\")\n",
    "    print(f\"RMSE: {round(RMSE, 4)} ({name})\")\n",
    "    print(f\"RMSE2: {round(RMSE2, 4)} ({name})\")\n",
    "    print(f\"MAE: {round(MAE, 4)} ({name})\")\n",
    "    print(f\"MAPE: {round(M_A_P_E, 4)} ({name})\")\n",
    "    print(f\"r2: {round(r2, 4)} ({name})\")\n",
    "    print(\"==============================================\")\n",
    "    "
   ]
  },
  {
   "cell_type": "code",
   "execution_count": 36,
   "metadata": {},
   "outputs": [
    {
     "name": "stdout",
     "output_type": "stream",
     "text": [
      "Feature: 0, Score: 0.00035\n",
      "==============================================\n",
      "Feature: 1, Score: 0.02783\n",
      "==============================================\n",
      "Feature: 2, Score: 0.01140\n",
      "==============================================\n",
      "Feature: 3, Score: 0.07305\n",
      "==============================================\n",
      "Feature: 4, Score: 0.07700\n",
      "==============================================\n",
      "Feature: 5, Score: 0.04425\n",
      "==============================================\n",
      "Feature: 6, Score: 0.01835\n",
      "==============================================\n",
      "Feature: 7, Score: 0.01390\n",
      "==============================================\n",
      "Feature: 8, Score: 0.01510\n",
      "==============================================\n",
      "Feature: 9, Score: 0.00227\n",
      "==============================================\n",
      "Feature: 10, Score: 0.00063\n",
      "==============================================\n",
      "Feature: 11, Score: 0.00001\n",
      "==============================================\n",
      "Feature: 12, Score: 0.00134\n",
      "==============================================\n",
      "Feature: 13, Score: 0.00012\n",
      "==============================================\n",
      "Feature: 14, Score: 0.00081\n",
      "==============================================\n",
      "Feature: 15, Score: 0.00018\n",
      "==============================================\n",
      "Feature: 16, Score: 0.00699\n",
      "==============================================\n",
      "Feature: 17, Score: 0.00000\n",
      "==============================================\n",
      "Feature: 18, Score: 0.00000\n",
      "==============================================\n",
      "Feature: 19, Score: 0.00000\n",
      "==============================================\n",
      "Feature: 20, Score: 0.00042\n",
      "==============================================\n",
      "Feature: 21, Score: 0.00051\n",
      "==============================================\n",
      "Feature: 22, Score: 0.00009\n",
      "==============================================\n",
      "Feature: 23, Score: 0.00020\n",
      "==============================================\n",
      "Feature: 24, Score: 0.00187\n",
      "==============================================\n",
      "Feature: 25, Score: 0.00000\n",
      "==============================================\n",
      "Feature: 26, Score: 0.00551\n",
      "==============================================\n",
      "Feature: 27, Score: 0.00011\n",
      "==============================================\n",
      "Feature: 28, Score: 0.00000\n",
      "==============================================\n",
      "Feature: 29, Score: 0.00223\n",
      "==============================================\n",
      "Feature: 30, Score: 0.00584\n",
      "==============================================\n",
      "Feature: 31, Score: 0.00077\n",
      "==============================================\n",
      "Feature: 32, Score: 0.00072\n",
      "==============================================\n",
      "Feature: 33, Score: 0.00001\n",
      "==============================================\n",
      "Feature: 34, Score: 0.00018\n",
      "==============================================\n",
      "Feature: 35, Score: 0.00068\n",
      "==============================================\n",
      "Feature: 36, Score: 0.00016\n",
      "==============================================\n",
      "Feature: 37, Score: 0.00257\n",
      "==============================================\n",
      "Feature: 38, Score: 0.00079\n",
      "==============================================\n",
      "Feature: 39, Score: 0.00009\n",
      "==============================================\n",
      "Feature: 40, Score: 0.00070\n",
      "==============================================\n",
      "Feature: 41, Score: 0.00036\n",
      "==============================================\n",
      "Feature: 42, Score: 0.00018\n",
      "==============================================\n",
      "Feature: 43, Score: 0.00022\n",
      "==============================================\n",
      "Feature: 44, Score: 0.00020\n",
      "==============================================\n",
      "Feature: 45, Score: 0.00048\n",
      "==============================================\n",
      "Feature: 46, Score: 0.00053\n",
      "==============================================\n",
      "Feature: 47, Score: 0.00059\n",
      "==============================================\n",
      "Feature: 48, Score: 0.00103\n",
      "==============================================\n",
      "Feature: 49, Score: 0.00026\n",
      "==============================================\n",
      "Feature: 50, Score: 0.00076\n",
      "==============================================\n",
      "Feature: 51, Score: 0.00162\n",
      "==============================================\n",
      "Feature: 52, Score: 0.00005\n",
      "==============================================\n",
      "Feature: 53, Score: 0.01112\n",
      "==============================================\n",
      "Feature: 54, Score: 0.01690\n",
      "==============================================\n",
      "Feature: 55, Score: 0.00008\n",
      "==============================================\n",
      "Feature: 56, Score: 0.00000\n",
      "==============================================\n",
      "Feature: 57, Score: 0.00093\n",
      "==============================================\n",
      "Feature: 58, Score: 0.00138\n",
      "==============================================\n",
      "Feature: 59, Score: 0.01036\n",
      "==============================================\n",
      "Feature: 60, Score: 0.00210\n",
      "==============================================\n",
      "Feature: 61, Score: 0.00064\n",
      "==============================================\n",
      "Feature: 62, Score: 0.00131\n",
      "==============================================\n",
      "Feature: 63, Score: 0.00171\n",
      "==============================================\n",
      "Feature: 64, Score: 0.00308\n",
      "==============================================\n",
      "Feature: 65, Score: 0.00148\n",
      "==============================================\n",
      "Feature: 66, Score: 0.00005\n",
      "==============================================\n",
      "Feature: 67, Score: 0.00362\n",
      "==============================================\n",
      "Feature: 68, Score: 0.00324\n",
      "==============================================\n",
      "Feature: 69, Score: 0.00041\n",
      "==============================================\n",
      "Feature: 70, Score: 0.00137\n",
      "==============================================\n",
      "Feature: 71, Score: 0.00008\n",
      "==============================================\n",
      "Feature: 72, Score: 0.00228\n",
      "==============================================\n",
      "Feature: 73, Score: 0.00108\n",
      "==============================================\n",
      "Feature: 74, Score: 0.00030\n",
      "==============================================\n",
      "Feature: 75, Score: 0.00288\n",
      "==============================================\n",
      "Feature: 76, Score: 0.00229\n",
      "==============================================\n",
      "Feature: 77, Score: 0.00197\n",
      "==============================================\n",
      "Feature: 78, Score: 0.00000\n",
      "==============================================\n",
      "Feature: 79, Score: 0.00226\n",
      "==============================================\n",
      "Feature: 80, Score: 0.00008\n",
      "==============================================\n",
      "Feature: 81, Score: 0.00035\n",
      "==============================================\n",
      "Feature: 82, Score: 0.00052\n",
      "==============================================\n",
      "Feature: 83, Score: 0.00064\n",
      "==============================================\n",
      "Feature: 84, Score: 0.00091\n",
      "==============================================\n",
      "Feature: 85, Score: 0.00417\n",
      "==============================================\n",
      "Feature: 86, Score: 0.00639\n",
      "==============================================\n",
      "Feature: 87, Score: 0.00120\n",
      "==============================================\n",
      "Feature: 88, Score: 0.00434\n",
      "==============================================\n",
      "Feature: 89, Score: 0.00334\n",
      "==============================================\n",
      "Feature: 90, Score: 0.00008\n",
      "==============================================\n",
      "Feature: 91, Score: 0.00019\n",
      "==============================================\n",
      "Feature: 92, Score: 0.00021\n",
      "==============================================\n",
      "Feature: 93, Score: 0.00491\n",
      "==============================================\n",
      "Feature: 94, Score: 0.00736\n",
      "==============================================\n",
      "Feature: 95, Score: 0.00183\n",
      "==============================================\n",
      "Feature: 96, Score: 0.00206\n",
      "==============================================\n",
      "Feature: 97, Score: 0.00059\n",
      "==============================================\n",
      "Feature: 98, Score: 0.00786\n",
      "==============================================\n",
      "Feature: 99, Score: 0.00200\n",
      "==============================================\n",
      "Feature: 100, Score: 0.00011\n",
      "==============================================\n",
      "Feature: 101, Score: 0.00011\n",
      "==============================================\n",
      "Feature: 102, Score: 0.01868\n",
      "==============================================\n",
      "Feature: 103, Score: 0.01211\n",
      "==============================================\n",
      "Feature: 104, Score: 0.02351\n",
      "==============================================\n",
      "Feature: 105, Score: 0.01781\n",
      "==============================================\n",
      "Feature: 106, Score: 0.01491\n",
      "==============================================\n",
      "Feature: 107, Score: 0.03288\n",
      "==============================================\n",
      "Feature: 108, Score: 0.01049\n",
      "==============================================\n",
      "Feature: 109, Score: 0.01437\n",
      "==============================================\n",
      "Feature: 110, Score: 0.01057\n",
      "==============================================\n",
      "Feature: 111, Score: 0.01250\n",
      "==============================================\n",
      "Feature: 112, Score: 0.01339\n",
      "==============================================\n",
      "Feature: 113, Score: 0.01173\n",
      "==============================================\n",
      "Feature: 114, Score: 0.01330\n",
      "==============================================\n",
      "Feature: 115, Score: 0.00355\n",
      "==============================================\n",
      "Feature: 116, Score: 0.01316\n",
      "==============================================\n",
      "Feature: 117, Score: 0.01648\n",
      "==============================================\n",
      "Feature: 118, Score: 0.01460\n",
      "==============================================\n",
      "Feature: 119, Score: 0.01441\n",
      "==============================================\n",
      "Feature: 120, Score: 0.00967\n",
      "==============================================\n",
      "Feature: 121, Score: 0.00949\n",
      "==============================================\n",
      "Feature: 122, Score: 0.01396\n",
      "==============================================\n",
      "Feature: 123, Score: 0.01859\n",
      "==============================================\n",
      "Feature: 124, Score: 0.01483\n",
      "==============================================\n",
      "Feature: 125, Score: 0.01237\n",
      "==============================================\n",
      "Feature: 126, Score: 0.01204\n",
      "==============================================\n",
      "Feature: 127, Score: 0.00566\n",
      "==============================================\n",
      "Feature: 128, Score: 0.01172\n",
      "==============================================\n",
      "Feature: 129, Score: 0.01502\n",
      "==============================================\n",
      "Feature: 130, Score: 0.01242\n",
      "==============================================\n",
      "Feature: 131, Score: 0.01459\n",
      "==============================================\n",
      "Feature: 132, Score: 0.01554\n",
      "==============================================\n",
      "Feature: 133, Score: 0.01348\n",
      "==============================================\n",
      "Feature: 134, Score: 0.00978\n",
      "==============================================\n",
      "Feature: 135, Score: 0.00962\n",
      "==============================================\n",
      "Feature: 136, Score: 0.00349\n",
      "==============================================\n",
      "Feature: 137, Score: 0.01615\n",
      "==============================================\n",
      "Feature: 138, Score: 0.01608\n",
      "==============================================\n",
      "Feature: 139, Score: 0.01152\n",
      "==============================================\n",
      "Feature: 140, Score: 0.01639\n",
      "==============================================\n",
      "Feature: 141, Score: 0.01300\n",
      "==============================================\n",
      "Feature: 142, Score: 0.01070\n",
      "==============================================\n"
     ]
    }
   ],
   "source": [
    "importance= modela.feature_importances_\n",
    "for i,v in enumerate(importance):\n",
    "    print('Feature: %0d, Score: %.5f'%(i,v))\n",
    "    print(\"==============================================\")"
   ]
  },
  {
   "cell_type": "code",
   "execution_count": 37,
   "metadata": {},
   "outputs": [
    {
     "data": {
      "image/png": "[encoded data removed]",
      "text/plain": [
       "<Figure size 432x288 with 1 Axes>"
      ]
     },
     "metadata": {
      "needs_background": "light"
     },
     "output_type": "display_data"
    }
   ],
   "source": [
    "from matplotlib import pyplot\n",
    "pyplot.bar([x for x in range(len(importance))], importance)\n",
    "pyplot.show()"
   ]
  },
  {
   "cell_type": "code",
   "execution_count": 38,
   "metadata": {},
   "outputs": [
    {
     "data": {
      "text/plain": [
       "(1259, 144)"
      ]
     },
     "execution_count": 38,
     "metadata": {},
     "output_type": "execute_result"
    }
   ],
   "source": [
    "data.shape"
   ]
  },
  {
   "cell_type": "code",
   "execution_count": 39,
   "metadata": {},
   "outputs": [
    {
     "data": {
      "text/plain": [
       "work_interfere    8.375262\n",
       "family_history    7.650591\n",
       "no_employees      4.318366\n",
       "ca_Yes            3.663828\n",
       "be_Yes            2.519079\n",
       "                    ...   \n",
       "co_Zimbabwe       0.000000\n",
       "co_Hungary        0.000000\n",
       "co_China          0.000000\n",
       "co_Colombia       0.000000\n",
       "co_Costa Rica     0.000000\n",
       "Length: 143, dtype: float64"
      ]
     },
     "execution_count": 39,
     "metadata": {},
     "output_type": "execute_result"
    }
   ],
   "source": [
    "model= RandomForestClassifier()\n",
    "model.fit(X_train, y_train)\n",
    "\n",
    "\n",
    "dt= data.drop('treatment', axis=1).copy()\n",
    "\n",
    "\n",
    "y_pred = model.predict(X_test)\n",
    "feature_imp= pd.Series(model.feature_importances_, index= dt.columns).sort_values(ascending=False)\n",
    "feature_imp*100\n"
   ]
  },
  {
   "cell_type": "code",
   "execution_count": 40,
   "metadata": {},
   "outputs": [
    {
     "data": {
      "text/plain": [
       "family_history    13.751065\n",
       "work_interfere    13.322578\n",
       "ca_Yes             5.314206\n",
       "no_employees       4.280105\n",
       "Gender             2.775453\n",
       "                    ...    \n",
       "co_Hungary         0.000000\n",
       "co_Thailand        0.000000\n",
       "co_Philippines     0.000000\n",
       "co_Mexico          0.000000\n",
       "co_Denmark         0.000000\n",
       "Length: 143, dtype: float64"
      ]
     },
     "execution_count": 40,
     "metadata": {},
     "output_type": "execute_result"
    }
   ],
   "source": [
    "model= RandomForestRegressor()\n",
    "model.fit(X_train, y_train)\n",
    "\n",
    "y_pred = model.predict(X_test)\n",
    "feature_imp= pd.Series(model.feature_importances_, index= dt.columns).sort_values(ascending=False)\n",
    "feature_imp=feature_imp*100\n",
    "feature_imp"
   ]
  },
  {
   "cell_type": "code",
   "execution_count": 41,
   "metadata": {},
   "outputs": [
    {
     "data": {
      "text/plain": [
       "0.699300699300699"
      ]
     },
     "execution_count": 41,
     "metadata": {},
     "output_type": "execute_result"
    }
   ],
   "source": [
    "feature_imp.mean()"
   ]
  },
  {
   "cell_type": "code",
   "execution_count": 42,
   "metadata": {},
   "outputs": [
    {
     "data": {
      "text/plain": [
       "(1259, 144)"
      ]
     },
     "execution_count": 42,
     "metadata": {},
     "output_type": "execute_result"
    }
   ],
   "source": [
    "data.shape"
   ]
  },
  {
   "cell_type": "code",
   "execution_count": 43,
   "metadata": {},
   "outputs": [],
   "source": [
    "#split the dataset into features and labels\n",
    "X1=data[['Age','tech_company','family_history','work_interfere','ca_Yes','no_employees','Gender','be_Yes',\n",
    "         'ca_No','co_United States','mc_No','pi_Maybe','remote_work','ca_Not sure','obs_consequence',\n",
    "          'pi_No','cw_Some of them','mc_Maybe','le_Somewhat easy','mc_Yes','mp_No','we_No',\n",
    "         'su_Yes','le_Somewhat difficult', 'self_employed', 'cw_No', 'su_No', 'tech_company', 'se_No', 'ph_No',\n",
    "         'an_Yes', 'mp_Yes', 'st_CA', 'ph_Maybe', 'su_Some of them','be_No','se_Yes','pi_Yes','cw_Yes',\n",
    "        'co_United Kingdom','we_Yes','mi_No','le_Very difficult','mi_Maybe','le_Very easy','st_TX']]\n",
    "\n",
    "y1=data['treatment']\n",
    "         \n",
    "X_train1, X_test1, y_train1, y_test1= train_test_split(X1, y1, test_size=0.70, random_state=45)\n",
    " \n"
   ]
  },
  {
   "cell_type": "code",
   "execution_count": 44,
   "metadata": {},
   "outputs": [],
   "source": [
    "#def MAPE(y_true1,y_pred1):\n",
    "#    y_true1, y_pred1= np.array(y_true1),np.array(y_pred1)\n",
    "#    return np.mean(np.abs((y_true1 - y_pred1)/ np.maximum(np.ones(len(y_true1)), np.abs(y_true1))))*100"
   ]
  },
  {
   "cell_type": "code",
   "execution_count": 45,
   "metadata": {},
   "outputs": [],
   "source": [
    "#from catboost import CatBoostRegressor\n",
    "#from lightgbm import LGBMRegressor\n",
    "from sklearn.ensemble import RandomForestRegressor, GradientBoostingRegressor,RandomForestClassifier\n",
    "from sklearn.linear_model import LinearRegression, Ridge, Lasso, ElasticNet\n",
    "from sklearn.model_selection import GridSearchCV, cross_val_score,StratifiedKFold\n",
    "from sklearn.neighbors import KNeighborsRegressor\n",
    "from sklearn.svm import SVR\n",
    "from sklearn.tree import DecisionTreeRegressor\n",
    "#from xgboost import XGBRegressor\n",
    "from sklearn import metrics\n",
    "import random as rd\n",
    "models = [('LR', LinearRegression()),\n",
    "          (\"Ridge\", Ridge()),\n",
    "          (\"Lasso\", Lasso()),\n",
    "          #(\"ElasticNet\", ElasticNet()),\n",
    "          ('KNN', KNeighborsRegressor()),\n",
    "          ('CART', DecisionTreeRegressor()),\n",
    "          ('RF', RandomForestRegressor()),\n",
    "          ('RFC',RandomForestClassifier())\n",
    "          #('SVR', SVR()),\n",
    "          #('GBM', GradientBoostingRegressor()),\n",
    "          #(\"XGBoost\", XGBRegressor(objective='reg:squarederror'))\n",
    "         ]"
   ]
  },
  {
   "cell_type": "code",
   "execution_count": 46,
   "metadata": {},
   "outputs": [
    {
     "name": "stdout",
     "output_type": "stream",
     "text": [
      "RMSE: 915730.0742 (LR)\n",
      "MAE: 30834.6129 (LR)\n",
      "r2: -3354263522673.051 (LR)\n",
      "RMSE: 928178.5692 (Ridge)\n",
      "MAE: 31253.7745 (Ridge)\n",
      "r2: -3446079544374.686 (Ridge)\n",
      "RMSE: 297974.6342 (Lasso)\n",
      "MAE: 10033.8274 (Lasso)\n",
      "r2: -355157356574.2284 (Lasso)\n",
      "RMSE: 0.5034 (KNN)\n",
      "MAE: 0.4458 (KNN)\n",
      "r2: -0.0137 (KNN)\n",
      "RMSE: 0.6126 (CART)\n",
      "MAE: 0.3753 (CART)\n",
      "r2: -0.5011 (CART)\n",
      "RMSE: 0.4369 (RF)\n",
      "MAE: 0.3669 (RF)\n",
      "r2: 0.2363 (RF)\n",
      "RMSE: 0.5281 (RFC)\n",
      "MAE: 0.2789 (RFC)\n",
      "r2: -0.1157 (RFC)\n"
     ]
    }
   ],
   "source": [
    "for name, regressor in models:\n",
    "    modela = regressor\n",
    "    modela.fit(X_train1, y_train1)\n",
    "    y_pred1 = modela.predict(X_test1)\n",
    "    MSE = metrics.mean_squared_error(y_test1,y_pred1)\n",
    "    RMSE = np.sqrt(MSE)\n",
    "    MAE = metrics.mean_absolute_error(y_test1,y_pred1)\n",
    "    #M_A_P_E = MAPE(y_test1,y_pred1)\n",
    "    r2=metrics.r2_score(y_test1,y_pred1)\n",
    "    print(f\"RMSE: {round(RMSE, 4)} ({name})\")\n",
    "    print(f\"MAE: {round(MAE, 4)} ({name})\")\n",
    "    #print(f\"MAPE: {round(M_A_P_E, 4)} ({name})\")\n",
    "    print(f\"r2: {round(r2, 4)} ({name})\")"
   ]
  },
  {
   "cell_type": "code",
   "execution_count": 47,
   "metadata": {},
   "outputs": [
    {
     "data": {
      "text/plain": [
       "'A correlation coefficient of .10(R*2= 0.01) is generally considered to be a weak or small association.\\n.30(R*2=0.09) is considered a moderate association\\n.50(R*2=0.25) or larger is thought to present a strong or large association\\nThe value of the R-squared means the percentage of the data the model explains. Thus, the higher the R-sqaured value the better the model is fitted.\\nUnfortunately, R-squared does not inform if the regression model has an adequate fit or not.\\nAlso, R-squared cannot be used to check if the coefficient estimates and predictions are biased or not.\\n\\nLow R-SQUARED vs HIGH R-SQUARED\\nRegression models with low R_squared do not always pose a problem. There are some areas where you are bound to have low R-squared\\n    values. One of such is when you study human behaviour. They tend to have R-squared values less than 50%. The reason is that predicting \\n    people is a more difficult task than predicting a physical process.\\n\\ngoodness of fit is a mathematical model that describes the differences between the observed values and the expected values or how well a model fits a set of observations.\\n\\n\\nknowledgehut.com\\n\\n\\n\\nR2 is negative only when the chosen model does not follow the trend of the data. It seems that your model may be giving better performance because of overfitting.\\n'"
      ]
     },
     "execution_count": 47,
     "metadata": {},
     "output_type": "execute_result"
    }
   ],
   "source": [
    "\"\"\"A correlation coefficient of .10(R*2= 0.01) is generally considered to be a weak or small association.\n",
    ".30(R*2=0.09) is considered a moderate association\n",
    ".50(R*2=0.25) or larger is thought to present a strong or large association\n",
    "The value of the R-squared means the percentage of the data the model explains. Thus, the higher the R-sqaured value the better the model is fitted.\n",
    "Unfortunately, R-squared does not inform if the regression model has an adequate fit or not.\n",
    "Also, R-squared cannot be used to check if the coefficient estimates and predictions are biased or not.\n",
    "\n",
    "Low R-SQUARED vs HIGH R-SQUARED\n",
    "Regression models with low R_squared do not always pose a problem. There are some areas where you are bound to have low R-squared\n",
    "    values. One of such is when you study human behaviour. They tend to have R-squared values less than 50%. The reason is that predicting \n",
    "    people is a more difficult task than predicting a physical process.\n",
    "\n",
    "goodness of fit is a mathematical model that describes the differences between the observed values and the expected values or how well a model fits a set of observations.\n",
    "\n",
    "\n",
    "knowledgehut.com\n",
    "\n",
    "\n",
    "\n",
    "R2 is negative only when the chosen model does not follow the trend of the data. It seems that your model may be giving better performance because of overfitting.\n",
    "\"\"\""
   ]
  },
  {
   "cell_type": "code",
   "execution_count": 48,
   "metadata": {},
   "outputs": [],
   "source": [
    "#split the dataset into features and labels\n",
    "X2= data[['work_interfere','family_history','no_employees', 'ca_Yes', 'Gender', 'be_Yes']]\n",
    "y2=data['treatment']\n",
    "         \n",
    "X_train2, X_test2, y_train2, y_test2= train_test_split(X2, y2, test_size=0.70, random_state=45)\n",
    " \n"
   ]
  },
  {
   "cell_type": "code",
   "execution_count": 49,
   "metadata": {},
   "outputs": [
    {
     "name": "stdout",
     "output_type": "stream",
     "text": [
      "RMSE: 0.4418 (LR)\n",
      "MAE: 0.369 (LR)\n",
      "r2: 0.2193 (LR)\n",
      "===============================================\n",
      "RMSE: 0.4415 (Ridge)\n",
      "MAE: 0.3694 (Ridge)\n",
      "r2: 0.2203 (Ridge)\n",
      "===============================================\n",
      "RMSE: 0.5006 (Lasso)\n",
      "MAE: 0.5001 (Lasso)\n",
      "r2: -0.0022 (Lasso)\n",
      "===============================================\n",
      "RMSE: 0.4537 (KNN)\n",
      "MAE: 0.3444 (KNN)\n",
      "r2: 0.1766 (KNN)\n",
      "===============================================\n",
      "RMSE: 0.4872 (CART)\n",
      "MAE: 0.3303 (CART)\n",
      "r2: 0.0506 (CART)\n",
      "===============================================\n",
      "RMSE: 0.4509 (RF)\n",
      "MAE: 0.3378 (RF)\n",
      "r2: 0.1869 (RF)\n",
      "===============================================\n",
      "RMSE: 0.5324 (RFC)\n",
      "MAE: 0.2834 (RFC)\n",
      "r2: -0.1338 (RFC)\n",
      "===============================================\n"
     ]
    }
   ],
   "source": [
    "\n",
    "for name, regressor in models:\n",
    "    modela = regressor\n",
    "    modela.fit(X_train2, y_train2)\n",
    "    y_pred2 = modela.predict(X_test2)\n",
    "    MSE = metrics.mean_squared_error(y_test2,y_pred2)\n",
    "    RMSE = np.sqrt(MSE)\n",
    "    MAE = metrics.mean_absolute_error(y_test2,y_pred2)\n",
    "    #M_A_P_E = MAPE(y_test1,y_pred1)\n",
    "    r2=metrics.r2_score(y_test2,y_pred2)\n",
    "    print(f\"RMSE: {round(RMSE, 4)} ({name})\")\n",
    "    print(f\"MAE: {round(MAE, 4)} ({name})\")\n",
    "    #print(f\"MAPE: {round(M_A_P_E, 4)} ({name})\")\n",
    "    print(f\"r2: {round(r2, 4)} ({name})\")\n",
    "    print(\"===============================================\")"
   ]
  },
  {
   "cell_type": "code",
   "execution_count": 50,
   "metadata": {},
   "outputs": [
    {
     "data": {
      "text/plain": [
       "False"
      ]
     },
     "execution_count": 50,
     "metadata": {},
     "output_type": "execute_result"
    }
   ],
   "source": [
    "-0.1429>-0.0022"
   ]
  },
  {
   "cell_type": "code",
   "execution_count": 51,
   "metadata": {},
   "outputs": [
    {
     "name": "stdout",
     "output_type": "stream",
     "text": [
      ">1, train: 0.486, test: 0.521\n",
      ">1, train: 0.491, test: 0.513\n",
      ">1, train: 0.483, test: 0.521\n",
      ">1, train: 0.507, test: 0.544\n",
      ">1, train: 0.480, test: 0.518\n",
      ">1, train: 0.478, test: 0.510\n",
      ">1, train: 0.507, test: 0.544\n",
      ">1, train: 0.499, test: 0.526\n",
      ">1, train: 0.489, test: 0.522\n",
      ">1, train: 0.483, test: 0.514\n",
      ">1, train: 0.497, test: 0.542\n",
      ">1, train: 0.494, test: 0.521\n",
      ">1, train: 0.491, test: 0.524\n",
      ">1, train: 0.497, test: 0.526\n",
      ">1, train: 0.486, test: 0.519\n",
      ">1, train: 0.507, test: 0.545\n",
      ">1, train: 0.491, test: 0.524\n",
      ">1, train: 0.486, test: 0.521\n",
      ">1, train: 0.507, test: 0.547\n",
      ">1, train: 0.491, test: 0.519\n",
      ">1, train: 0.491, test: 0.524\n",
      ">1, train: 0.497, test: 0.527\n",
      ">1, train: 0.486, test: 0.522\n",
      ">1, train: 0.494, test: 0.528\n",
      ">1, train: 0.497, test: 0.542\n",
      ">1, train: 0.491, test: 0.524\n",
      ">1, train: 0.478, test: 0.508\n",
      ">1, train: 0.491, test: 0.524\n",
      ">1, train: 0.491, test: 0.523\n"
     ]
    },
    {
     "data": {
      "image/png": "[encoded data removed]",
      "text/plain": [
       "<Figure size 432x288 with 1 Axes>"
      ]
     },
     "metadata": {
      "needs_background": "light"
     },
     "output_type": "display_data"
    }
   ],
   "source": [
    "from sklearn.ensemble import RandomForestClassifier\n",
    "#define the tree depths to evaluate\n",
    "values= [1 for i in range(1,30)]\n",
    "#evaluate a model(e.g decision tree for each depth)\n",
    "train_scores2, test_scores2= list(), list()\n",
    "for i in values:\n",
    "    model=RandomForestClassifier(max_depth=i)\n",
    "    #fit model on the training dataset\n",
    "    model.fit(X_train2,y_train2)\n",
    "    #evaluate on the train dataset\n",
    "    train_yhat2=model.predict(X_train2)\n",
    "    train_acc2= metrics.mean_squared_error(y_train2, train_yhat2, squared= False)\n",
    "    train_scores2.append(train_acc2)\n",
    "    #evaluate on the test dataset\n",
    "    test_yhat2=model.predict(X_test2)\n",
    "    test_acc2= metrics.mean_squared_error(y_test2, test_yhat2,squared= False)\n",
    "    test_scores2.append(test_acc2)\n",
    "    #summarize progress\n",
    "    print('>%d, train: %.3f, test: %.3f' % (i, train_acc2, test_acc2))\n",
    "\n",
    "#plot of train and test scores vs tree depth\n",
    "pyplot.plot(values, train_scores2, '-o', label='Train')\n",
    "pyplot.plot(values, test_scores2, '-o', label='Test')\n",
    "pyplot.legend()\n",
    "pyplot.show()"
   ]
  },
  {
   "cell_type": "code",
   "execution_count": 52,
   "metadata": {},
   "outputs": [],
   "source": [
    "#split the dataset into features and labels\n",
    "X3= data[['work_interfere','family_history','no_employees', 'ca_Yes', 'Gender', 'be_Yes']]\n",
    "y3=data['treatment']\n",
    "         \n",
    "X_train3, X_test3, y_train3, y_test3= train_test_split(X3, y3, test_size=0.70, random_state=45)\n",
    " "
   ]
  },
  {
   "cell_type": "code",
   "execution_count": 53,
   "metadata": {},
   "outputs": [
    {
     "name": "stdout",
     "output_type": "stream",
     "text": [
      ">1, train: 0.458, test: 0.600\n",
      ">1, train: 0.458, test: 0.600\n",
      ">1, train: 0.458, test: 0.600\n",
      ">1, train: 0.458, test: 0.600\n",
      ">1, train: 0.458, test: 0.600\n",
      ">1, train: 0.458, test: 0.600\n",
      ">1, train: 0.458, test: 0.600\n",
      ">1, train: 0.458, test: 0.600\n",
      ">1, train: 0.458, test: 0.600\n",
      ">1, train: 0.458, test: 0.600\n",
      ">1, train: 0.458, test: 0.600\n",
      ">1, train: 0.458, test: 0.600\n",
      ">1, train: 0.458, test: 0.600\n",
      ">1, train: 0.458, test: 0.600\n",
      ">1, train: 0.458, test: 0.600\n",
      ">1, train: 0.458, test: 0.600\n",
      ">1, train: 0.458, test: 0.600\n",
      ">1, train: 0.458, test: 0.600\n",
      ">1, train: 0.458, test: 0.600\n",
      ">1, train: 0.458, test: 0.600\n",
      ">1, train: 0.458, test: 0.600\n",
      ">1, train: 0.458, test: 0.600\n",
      ">1, train: 0.458, test: 0.600\n",
      ">1, train: 0.458, test: 0.600\n",
      ">1, train: 0.458, test: 0.600\n",
      ">1, train: 0.458, test: 0.600\n",
      ">1, train: 0.458, test: 0.600\n",
      ">1, train: 0.458, test: 0.600\n",
      ">1, train: 0.458, test: 0.600\n"
     ]
    },
    {
     "data": {
      "image/png": "[encoded data removed]",
      "text/plain": [
       "<Figure size 432x288 with 1 Axes>"
      ]
     },
     "metadata": {
      "needs_background": "light"
     },
     "output_type": "display_data"
    }
   ],
   "source": [
    "from sklearn.neighbors import KNeighborsClassifier\n",
    "#define the tree depths to evaluate\n",
    "values= [1 for i in range(1,30)]\n",
    "#evaluate a model(e.g decision tree for each depth)\n",
    "train_scores3, test_scores3= list(), list()\n",
    "for i in values:\n",
    "    model= KNeighborsClassifier(n_neighbors=i)\n",
    "    #fit model on the training dataset\n",
    "    model.fit(X_train3,y_train3)\n",
    "    #evaluate on the train dataset\n",
    "    train_yhat3=model.predict(X_train3)\n",
    "    train_acc3= metrics.mean_squared_error(y_train3, train_yhat3, squared= False)\n",
    "    train_scores3.append(train_acc3)\n",
    "    #evaluate on the test dataset\n",
    "    test_yhat3=model.predict(X_test3)\n",
    "    test_acc3=  metrics.mean_squared_error(y_test3, test_yhat3,squared= False)\n",
    "    test_scores3.append(test_acc3)\n",
    "    #summarize progress\n",
    "    print('>%d, train: %.3f, test: %.3f' % (i, train_acc3, test_acc3))\n",
    "\n",
    "#plot of train and test scores vs tree depth\n",
    "pyplot.plot(values, train_scores3, '-o', label='Train')\n",
    "pyplot.plot(values, test_scores3, '-o', label='Test')\n",
    "pyplot.legend()\n",
    "pyplot.show()"
   ]
  },
  {
   "cell_type": "code",
   "execution_count": 54,
   "metadata": {},
   "outputs": [],
   "source": [
    "#split the dataset into features and labels\n",
    "X4= data[['work_interfere','family_history','no_employees', 'ca_Yes', 'Gender', 'be_Yes']]\n",
    "y4=data['treatment']\n",
    "         \n",
    "X_train4, X_test4, y_train4, y_test4= train_test_split(X4, y4, test_size=0.70, random_state=45)\n",
    " "
   ]
  },
  {
   "cell_type": "code",
   "execution_count": 55,
   "metadata": {},
   "outputs": [
    {
     "name": "stdout",
     "output_type": "stream",
     "text": [
      ">1, train: 0.458, test: 0.600\n",
      ">1, train: 0.458, test: 0.600\n",
      ">1, train: 0.458, test: 0.600\n",
      ">1, train: 0.458, test: 0.600\n",
      ">1, train: 0.458, test: 0.600\n",
      ">1, train: 0.458, test: 0.600\n",
      ">1, train: 0.458, test: 0.600\n",
      ">1, train: 0.458, test: 0.600\n",
      ">1, train: 0.458, test: 0.600\n",
      ">1, train: 0.458, test: 0.600\n",
      ">1, train: 0.458, test: 0.600\n",
      ">1, train: 0.458, test: 0.600\n",
      ">1, train: 0.458, test: 0.600\n",
      ">1, train: 0.458, test: 0.600\n",
      ">1, train: 0.458, test: 0.600\n",
      ">1, train: 0.458, test: 0.600\n",
      ">1, train: 0.458, test: 0.600\n",
      ">1, train: 0.458, test: 0.600\n",
      ">1, train: 0.458, test: 0.600\n",
      ">1, train: 0.458, test: 0.600\n",
      ">1, train: 0.458, test: 0.600\n",
      ">1, train: 0.458, test: 0.600\n",
      ">1, train: 0.458, test: 0.600\n",
      ">1, train: 0.458, test: 0.600\n",
      ">1, train: 0.458, test: 0.600\n",
      ">1, train: 0.458, test: 0.600\n",
      ">1, train: 0.458, test: 0.600\n",
      ">1, train: 0.458, test: 0.600\n",
      ">1, train: 0.458, test: 0.600\n"
     ]
    },
    {
     "data": {
      "image/png": "[encoded data removed]",
      "text/plain": [
       "<Figure size 432x288 with 1 Axes>"
      ]
     },
     "metadata": {
      "needs_background": "light"
     },
     "output_type": "display_data"
    }
   ],
   "source": [
    "from sklearn.neighbors import KNeighborsRegressor\n",
    "#define the tree depths to evaluate\n",
    "values= [1 for i in range(1,30)]\n",
    "#evaluate a model(e.g decision tree for each depth)\n",
    "train_scores4, test_scores4= list(), list()\n",
    "for i in values:\n",
    "    model= KNeighborsRegressor(n_neighbors=i)\n",
    "    #fit model on the training dataset\n",
    "    model.fit(X_train4,y_train4)\n",
    "    #evaluate on the train dataset\n",
    "    train_yhat4=model.predict(X_train4)\n",
    "    train_acc4= metrics.mean_squared_error(y_train4, train_yhat4, squared= False)\n",
    "    train_scores4.append(train_acc4)\n",
    "    #evaluate on the test dataset\n",
    "    test_yhat4=model.predict(X_test4)\n",
    "    test_acc4=  metrics.mean_squared_error(y_test4, test_yhat4,squared= False)\n",
    "    test_scores4.append(test_acc4)\n",
    "    #summarize progress\n",
    "    print('>%d, train: %.3f, test: %.3f' % (i, train_acc4, test_acc4))\n",
    "\n",
    "#plot of train and test scores vs tree depth\n",
    "pyplot.plot(values, train_scores4, '-o', label='Train')\n",
    "pyplot.plot(values, test_scores4, '-o', label='Test')\n",
    "pyplot.legend()\n",
    "pyplot.show()"
   ]
  },
  {
   "cell_type": "code",
   "execution_count": 56,
   "metadata": {},
   "outputs": [],
   "source": [
    "#split the dataset into features and labels\n",
    "X5= data[['work_interfere','family_history','no_employees', 'ca_Yes', 'Gender', 'be_Yes']]\n",
    "y5=data['treatment']\n",
    "         \n",
    "X_train5, X_test5, y_train5, y_test5= train_test_split(X5, y5, test_size=0.70, random_state=45)"
   ]
  },
  {
   "cell_type": "code",
   "execution_count": 57,
   "metadata": {},
   "outputs": [
    {
     "name": "stderr",
     "output_type": "stream",
     "text": [
      "C:\\Users\\Wommack\\Anaconda3\\Anaconda4\\lib\\site-packages\\sklearn\\linear_model\\_coordinate_descent.py:525: UserWarning: Coordinate descent with alpha=0 may lead to unexpected results and is discouraged.\n",
      "  model = cd_fast.enet_coordinate_descent_gram(\n",
      "C:\\Users\\Wommack\\Anaconda3\\Anaconda4\\lib\\site-packages\\sklearn\\linear_model\\_coordinate_descent.py:525: UserWarning: Coordinate descent with alpha=0 may lead to unexpected results and is discouraged.\n",
      "  model = cd_fast.enet_coordinate_descent_gram(\n",
      "C:\\Users\\Wommack\\Anaconda3\\Anaconda4\\lib\\site-packages\\sklearn\\linear_model\\_coordinate_descent.py:525: ConvergenceWarning: Objective did not converge. You might want to increase the number of iterations. Duality gap: 28.810248323753157, tolerance: 0.00847138643067846\n",
      "  model = cd_fast.enet_coordinate_descent_gram(\n",
      "C:\\Users\\Wommack\\Anaconda3\\Anaconda4\\lib\\site-packages\\sklearn\\linear_model\\_coordinate_descent.py:525: ConvergenceWarning: Objective did not converge. You might want to increase the number of iterations. Duality gap: 29.63884801620202, tolerance: 0.008442477876106197\n",
      "  model = cd_fast.enet_coordinate_descent_gram(\n",
      "C:\\Users\\Wommack\\Anaconda3\\Anaconda4\\lib\\site-packages\\sklearn\\linear_model\\_coordinate_descent.py:525: UserWarning: Coordinate descent with alpha=0 may lead to unexpected results and is discouraged.\n",
      "  model = cd_fast.enet_coordinate_descent_gram(\n",
      "C:\\Users\\Wommack\\Anaconda3\\Anaconda4\\lib\\site-packages\\sklearn\\linear_model\\_coordinate_descent.py:525: UserWarning: Coordinate descent with alpha=0 may lead to unexpected results and is discouraged.\n",
      "  model = cd_fast.enet_coordinate_descent_gram(\n",
      "C:\\Users\\Wommack\\Anaconda3\\Anaconda4\\lib\\site-packages\\sklearn\\linear_model\\_coordinate_descent.py:525: ConvergenceWarning: Objective did not converge. You might want to increase the number of iterations. Duality gap: 28.272096925049844, tolerance: 0.008453687315634211\n",
      "  model = cd_fast.enet_coordinate_descent_gram(\n",
      "C:\\Users\\Wommack\\Anaconda3\\Anaconda4\\lib\\site-packages\\sklearn\\linear_model\\_coordinate_descent.py:525: UserWarning: Coordinate descent with alpha=0 may lead to unexpected results and is discouraged.\n",
      "  model = cd_fast.enet_coordinate_descent_gram(\n",
      "C:\\Users\\Wommack\\Anaconda3\\Anaconda4\\lib\\site-packages\\sklearn\\linear_model\\_coordinate_descent.py:525: ConvergenceWarning: Objective did not converge. You might want to increase the number of iterations. Duality gap: 29.166721216702133, tolerance: 0.008448377581120946\n",
      "  model = cd_fast.enet_coordinate_descent_gram(\n",
      "C:\\Users\\Wommack\\Anaconda3\\Anaconda4\\lib\\site-packages\\sklearn\\linear_model\\_coordinate_descent.py:525: UserWarning: Coordinate descent with alpha=0 may lead to unexpected results and is discouraged.\n",
      "  model = cd_fast.enet_coordinate_descent_gram(\n",
      "C:\\Users\\Wommack\\Anaconda3\\Anaconda4\\lib\\site-packages\\sklearn\\linear_model\\_coordinate_descent.py:525: ConvergenceWarning: Objective did not converge. You might want to increase the number of iterations. Duality gap: 28.968858223588374, tolerance: 0.008435988200589975\n",
      "  model = cd_fast.enet_coordinate_descent_gram(\n",
      "C:\\Users\\Wommack\\Anaconda3\\Anaconda4\\lib\\site-packages\\sklearn\\linear_model\\_coordinate_descent.py:525: UserWarning: Coordinate descent with alpha=0 may lead to unexpected results and is discouraged.\n",
      "  model = cd_fast.enet_coordinate_descent_gram(\n",
      "C:\\Users\\Wommack\\Anaconda3\\Anaconda4\\lib\\site-packages\\sklearn\\linear_model\\_coordinate_descent.py:525: UserWarning: Coordinate descent with alpha=0 may lead to unexpected results and is discouraged.\n",
      "  model = cd_fast.enet_coordinate_descent_gram(\n",
      "C:\\Users\\Wommack\\Anaconda3\\Anaconda4\\lib\\site-packages\\sklearn\\linear_model\\_coordinate_descent.py:525: ConvergenceWarning: Objective did not converge. You might want to increase the number of iterations. Duality gap: 28.781324396255247, tolerance: 0.008499705882352937\n",
      "  model = cd_fast.enet_coordinate_descent_gram(\n",
      "C:\\Users\\Wommack\\Anaconda3\\Anaconda4\\lib\\site-packages\\sklearn\\linear_model\\_coordinate_descent.py:525: ConvergenceWarning: Objective did not converge. You might want to increase the number of iterations. Duality gap: 28.518937385281905, tolerance: 0.008448377581120946\n",
      "  model = cd_fast.enet_coordinate_descent_gram(\n",
      "C:\\Users\\Wommack\\Anaconda3\\Anaconda4\\lib\\site-packages\\sklearn\\linear_model\\_coordinate_descent.py:525: UserWarning: Coordinate descent with alpha=0 may lead to unexpected results and is discouraged.\n",
      "  model = cd_fast.enet_coordinate_descent_gram(\n",
      "C:\\Users\\Wommack\\Anaconda3\\Anaconda4\\lib\\site-packages\\sklearn\\linear_model\\_coordinate_descent.py:525: ConvergenceWarning: Objective did not converge. You might want to increase the number of iterations. Duality gap: 29.499260948433783, tolerance: 0.00848558823529412\n",
      "  model = cd_fast.enet_coordinate_descent_gram(\n",
      "C:\\Users\\Wommack\\Anaconda3\\Anaconda4\\lib\\site-packages\\sklearn\\linear_model\\_coordinate_descent.py:525: UserWarning: Coordinate descent with alpha=0 may lead to unexpected results and is discouraged.\n",
      "  model = cd_fast.enet_coordinate_descent_gram(\n",
      "C:\\Users\\Wommack\\Anaconda3\\Anaconda4\\lib\\site-packages\\sklearn\\linear_model\\_coordinate_descent.py:525: ConvergenceWarning: Objective did not converge. You might want to increase the number of iterations. Duality gap: 29.65465625224197, tolerance: 0.008473156342182889\n",
      "  model = cd_fast.enet_coordinate_descent_gram(\n",
      "C:\\Users\\Wommack\\Anaconda3\\Anaconda4\\lib\\site-packages\\sklearn\\linear_model\\_coordinate_descent.py:525: UserWarning: Coordinate descent with alpha=0 may lead to unexpected results and is discouraged.\n",
      "  model = cd_fast.enet_coordinate_descent_gram(\n",
      "C:\\Users\\Wommack\\Anaconda3\\Anaconda4\\lib\\site-packages\\sklearn\\linear_model\\_coordinate_descent.py:525: UserWarning: Coordinate descent with alpha=0 may lead to unexpected results and is discouraged.\n",
      "  model = cd_fast.enet_coordinate_descent_gram(\n",
      "C:\\Users\\Wommack\\Anaconda3\\Anaconda4\\lib\\site-packages\\sklearn\\linear_model\\_coordinate_descent.py:525: ConvergenceWarning: Objective did not converge. You might want to increase the number of iterations. Duality gap: 27.99748433226824, tolerance: 0.008453687315634213\n",
      "  model = cd_fast.enet_coordinate_descent_gram(\n",
      "C:\\Users\\Wommack\\Anaconda3\\Anaconda4\\lib\\site-packages\\sklearn\\linear_model\\_coordinate_descent.py:525: UserWarning: Coordinate descent with alpha=0 may lead to unexpected results and is discouraged.\n",
      "  model = cd_fast.enet_coordinate_descent_gram(\n",
      "C:\\Users\\Wommack\\Anaconda3\\Anaconda4\\lib\\site-packages\\sklearn\\linear_model\\_coordinate_descent.py:525: ConvergenceWarning: Objective did not converge. You might want to increase the number of iterations. Duality gap: 28.671016971918853, tolerance: 0.008453687315634213\n",
      "  model = cd_fast.enet_coordinate_descent_gram(\n",
      "C:\\Users\\Wommack\\Anaconda3\\Anaconda4\\lib\\site-packages\\sklearn\\linear_model\\_coordinate_descent.py:525: UserWarning: Coordinate descent with alpha=0 may lead to unexpected results and is discouraged.\n",
      "  model = cd_fast.enet_coordinate_descent_gram(\n",
      "C:\\Users\\Wommack\\Anaconda3\\Anaconda4\\lib\\site-packages\\sklearn\\linear_model\\_coordinate_descent.py:525: ConvergenceWarning: Objective did not converge. You might want to increase the number of iterations. Duality gap: 28.39108179664607, tolerance: 0.00845840707964602\n",
      "  model = cd_fast.enet_coordinate_descent_gram(\n",
      "C:\\Users\\Wommack\\Anaconda3\\Anaconda4\\lib\\site-packages\\sklearn\\linear_model\\_coordinate_descent.py:525: UserWarning: Coordinate descent with alpha=0 may lead to unexpected results and is discouraged.\n",
      "  model = cd_fast.enet_coordinate_descent_gram(\n",
      "C:\\Users\\Wommack\\Anaconda3\\Anaconda4\\lib\\site-packages\\sklearn\\linear_model\\_coordinate_descent.py:525: UserWarning: Coordinate descent with alpha=0 may lead to unexpected results and is discouraged.\n",
      "  model = cd_fast.enet_coordinate_descent_gram(\n",
      "C:\\Users\\Wommack\\Anaconda3\\Anaconda4\\lib\\site-packages\\sklearn\\linear_model\\_coordinate_descent.py:525: ConvergenceWarning: Objective did not converge. You might want to increase the number of iterations. Duality gap: 29.706863104573817, tolerance: 0.00846607669616519\n",
      "  model = cd_fast.enet_coordinate_descent_gram(\n",
      "C:\\Users\\Wommack\\Anaconda3\\Anaconda4\\lib\\site-packages\\sklearn\\linear_model\\_coordinate_descent.py:525: ConvergenceWarning: Objective did not converge. You might want to increase the number of iterations. Duality gap: 28.902234817296183, tolerance: 0.008469026548672567\n",
      "  model = cd_fast.enet_coordinate_descent_gram(\n"
     ]
    },
    {
     "name": "stderr",
     "output_type": "stream",
     "text": [
      "C:\\Users\\Wommack\\Anaconda3\\Anaconda4\\lib\\site-packages\\sklearn\\linear_model\\_coordinate_descent.py:525: UserWarning: Coordinate descent with alpha=0 may lead to unexpected results and is discouraged.\n",
      "  model = cd_fast.enet_coordinate_descent_gram(\n",
      "C:\\Users\\Wommack\\Anaconda3\\Anaconda4\\lib\\site-packages\\sklearn\\linear_model\\_coordinate_descent.py:525: ConvergenceWarning: Objective did not converge. You might want to increase the number of iterations. Duality gap: 28.443051685598405, tolerance: 0.00845840707964602\n",
      "  model = cd_fast.enet_coordinate_descent_gram(\n",
      "C:\\Users\\Wommack\\Anaconda3\\Anaconda4\\lib\\site-packages\\sklearn\\linear_model\\_coordinate_descent.py:525: UserWarning: Coordinate descent with alpha=0 may lead to unexpected results and is discouraged.\n",
      "  model = cd_fast.enet_coordinate_descent_gram(\n",
      "C:\\Users\\Wommack\\Anaconda3\\Anaconda4\\lib\\site-packages\\sklearn\\linear_model\\_coordinate_descent.py:525: UserWarning: Coordinate descent with alpha=0 may lead to unexpected results and is discouraged.\n",
      "  model = cd_fast.enet_coordinate_descent_gram(\n",
      "C:\\Users\\Wommack\\Anaconda3\\Anaconda4\\lib\\site-packages\\sklearn\\linear_model\\_coordinate_descent.py:525: ConvergenceWarning: Objective did not converge. You might want to increase the number of iterations. Duality gap: 29.445321113616636, tolerance: 0.008433823529411763\n",
      "  model = cd_fast.enet_coordinate_descent_gram(\n",
      "C:\\Users\\Wommack\\Anaconda3\\Anaconda4\\lib\\site-packages\\sklearn\\linear_model\\_coordinate_descent.py:525: UserWarning: Coordinate descent with alpha=0 may lead to unexpected results and is discouraged.\n",
      "  model = cd_fast.enet_coordinate_descent_gram(\n",
      "C:\\Users\\Wommack\\Anaconda3\\Anaconda4\\lib\\site-packages\\sklearn\\linear_model\\_coordinate_descent.py:525: ConvergenceWarning: Objective did not converge. You might want to increase the number of iterations. Duality gap: 29.021183191417695, tolerance: 0.008481176470588239\n",
      "  model = cd_fast.enet_coordinate_descent_gram(\n",
      "C:\\Users\\Wommack\\Anaconda3\\Anaconda4\\lib\\site-packages\\sklearn\\linear_model\\_coordinate_descent.py:525: UserWarning: Coordinate descent with alpha=0 may lead to unexpected results and is discouraged.\n",
      "  model = cd_fast.enet_coordinate_descent_gram(\n",
      "C:\\Users\\Wommack\\Anaconda3\\Anaconda4\\lib\\site-packages\\sklearn\\linear_model\\_coordinate_descent.py:525: ConvergenceWarning: Objective did not converge. You might want to increase the number of iterations. Duality gap: 29.573325452254355, tolerance: 0.00847138643067846\n",
      "  model = cd_fast.enet_coordinate_descent_gram(\n",
      "C:\\Users\\Wommack\\Anaconda3\\Anaconda4\\lib\\site-packages\\sklearn\\linear_model\\_coordinate_descent.py:525: UserWarning: Coordinate descent with alpha=0 may lead to unexpected results and is discouraged.\n",
      "  model = cd_fast.enet_coordinate_descent_gram(\n",
      "C:\\Users\\Wommack\\Anaconda3\\Anaconda4\\lib\\site-packages\\sklearn\\linear_model\\_coordinate_descent.py:525: ConvergenceWarning: Objective did not converge. You might want to increase the number of iterations. Duality gap: 29.606525265468257, tolerance: 0.00846607669616519\n",
      "  model = cd_fast.enet_coordinate_descent_gram(\n",
      "C:\\Users\\Wommack\\Anaconda3\\Anaconda4\\lib\\site-packages\\sklearn\\linear_model\\_coordinate_descent.py:525: UserWarning: Coordinate descent with alpha=0 may lead to unexpected results and is discouraged.\n",
      "  model = cd_fast.enet_coordinate_descent_gram(\n",
      "C:\\Users\\Wommack\\Anaconda3\\Anaconda4\\lib\\site-packages\\sklearn\\linear_model\\_coordinate_descent.py:525: ConvergenceWarning: Objective did not converge. You might want to increase the number of iterations. Duality gap: 29.12065247239682, tolerance: 0.008442477876106197\n",
      "  model = cd_fast.enet_coordinate_descent_gram(\n",
      "C:\\Users\\Wommack\\Anaconda3\\Anaconda4\\lib\\site-packages\\sklearn\\linear_model\\_coordinate_descent.py:525: UserWarning: Coordinate descent with alpha=0 may lead to unexpected results and is discouraged.\n",
      "  model = cd_fast.enet_coordinate_descent_gram(\n",
      "C:\\Users\\Wommack\\Anaconda3\\Anaconda4\\lib\\site-packages\\sklearn\\linear_model\\_coordinate_descent.py:525: ConvergenceWarning: Objective did not converge. You might want to increase the number of iterations. Duality gap: 29.234821923752204, tolerance: 0.008462536873156346\n",
      "  model = cd_fast.enet_coordinate_descent_gram(\n",
      "C:\\Users\\Wommack\\Anaconda3\\Anaconda4\\lib\\site-packages\\sklearn\\linear_model\\_coordinate_descent.py:525: UserWarning: Coordinate descent with alpha=0 may lead to unexpected results and is discouraged.\n",
      "  model = cd_fast.enet_coordinate_descent_gram(\n",
      "C:\\Users\\Wommack\\Anaconda3\\Anaconda4\\lib\\site-packages\\sklearn\\linear_model\\_coordinate_descent.py:525: UserWarning: Coordinate descent with alpha=0 may lead to unexpected results and is discouraged.\n",
      "  model = cd_fast.enet_coordinate_descent_gram(\n",
      "C:\\Users\\Wommack\\Anaconda3\\Anaconda4\\lib\\site-packages\\sklearn\\linear_model\\_coordinate_descent.py:525: ConvergenceWarning: Objective did not converge. You might want to increase the number of iterations. Duality gap: 29.455912737647836, tolerance: 0.008448377581120946\n",
      "  model = cd_fast.enet_coordinate_descent_gram(\n",
      "C:\\Users\\Wommack\\Anaconda3\\Anaconda4\\lib\\site-packages\\sklearn\\linear_model\\_coordinate_descent.py:525: UserWarning: Coordinate descent with alpha=0 may lead to unexpected results and is discouraged.\n",
      "  model = cd_fast.enet_coordinate_descent_gram(\n",
      "C:\\Users\\Wommack\\Anaconda3\\Anaconda4\\lib\\site-packages\\sklearn\\linear_model\\_coordinate_descent.py:525: ConvergenceWarning: Objective did not converge. You might want to increase the number of iterations. Duality gap: 28.746851757267535, tolerance: 0.00846607669616519\n",
      "  model = cd_fast.enet_coordinate_descent_gram(\n",
      "C:\\Users\\Wommack\\Anaconda3\\Anaconda4\\lib\\site-packages\\sklearn\\linear_model\\_coordinate_descent.py:525: UserWarning: Coordinate descent with alpha=0 may lead to unexpected results and is discouraged.\n",
      "  model = cd_fast.enet_coordinate_descent_gram(\n",
      "C:\\Users\\Wommack\\Anaconda3\\Anaconda4\\lib\\site-packages\\sklearn\\linear_model\\_coordinate_descent.py:525: ConvergenceWarning: Objective did not converge. You might want to increase the number of iterations. Duality gap: 28.66909090218804, tolerance: 0.008492647058823537\n",
      "  model = cd_fast.enet_coordinate_descent_gram(\n",
      "C:\\Users\\Wommack\\Anaconda3\\Anaconda4\\lib\\site-packages\\sklearn\\linear_model\\_coordinate_descent.py:525: UserWarning: Coordinate descent with alpha=0 may lead to unexpected results and is discouraged.\n",
      "  model = cd_fast.enet_coordinate_descent_gram(\n",
      "C:\\Users\\Wommack\\Anaconda3\\Anaconda4\\lib\\site-packages\\sklearn\\linear_model\\_coordinate_descent.py:525: UserWarning: Coordinate descent with alpha=0 may lead to unexpected results and is discouraged.\n",
      "  model = cd_fast.enet_coordinate_descent_gram(\n",
      "C:\\Users\\Wommack\\Anaconda3\\Anaconda4\\lib\\site-packages\\sklearn\\linear_model\\_coordinate_descent.py:1336: UserWarning: With alpha=0, this algorithm does not converge well. You are advised to use the LinearRegression estimator\n",
      "  model.fit(X, y)\n",
      "C:\\Users\\Wommack\\Anaconda3\\Anaconda4\\lib\\site-packages\\sklearn\\linear_model\\_coordinate_descent.py:529: UserWarning: Coordinate descent with no regularization may lead to unexpected results and is discouraged.\n",
      "  model = cd_fast.enet_coordinate_descent(\n",
      "C:\\Users\\Wommack\\Anaconda3\\Anaconda4\\lib\\site-packages\\sklearn\\linear_model\\_coordinate_descent.py:529: ConvergenceWarning: Objective did not converge. You might want to increase the number of iterations. Duality gap: 32.31389995791451, tolerance: 0.009405835543766575\n",
      "  model = cd_fast.enet_coordinate_descent(\n"
     ]
    },
    {
     "name": "stdout",
     "output_type": "stream",
     "text": [
      "alpha: 0.000000\n"
     ]
    }
   ],
   "source": [
    "from numpy import arange\n",
    "from sklearn.linear_model import LassoCV\n",
    "from sklearn.model_selection import RepeatedKFold\n",
    "\n",
    "#define the moldel evaluation method\n",
    "cv= RepeatedKFold(n_splits=10, n_repeats=3, random_state=1)\n",
    "#define model\n",
    "model= LassoCV(alphas= arange(0,1,0.01), cv=cv, n_jobs=-1)\n",
    "#fit model\n",
    "model.fit(X_train5,y_train5)\n",
    "#summarize chosen configuration\n",
    "print('alpha: %f' %model.alpha_)"
   ]
  },
  {
   "cell_type": "code",
   "execution_count": 58,
   "metadata": {},
   "outputs": [
    {
     "name": "stdout",
     "output_type": "stream",
     "text": [
      "RMSE: 0.4418\n",
      "MAE: 0.369\n",
      "r2: 0.2193 \n",
      "====================================\n"
     ]
    },
    {
     "name": "stderr",
     "output_type": "stream",
     "text": [
      "<ipython-input-58-d0e951746b3b>:4: UserWarning: With alpha=0, this algorithm does not converge well. You are advised to use the LinearRegression estimator\n",
      "  model.fit(X_train5, y_train5)\n",
      "C:\\Users\\Wommack\\Anaconda3\\Anaconda4\\lib\\site-packages\\sklearn\\linear_model\\_coordinate_descent.py:529: UserWarning: Coordinate descent with no regularization may lead to unexpected results and is discouraged.\n",
      "  model = cd_fast.enet_coordinate_descent(\n",
      "C:\\Users\\Wommack\\Anaconda3\\Anaconda4\\lib\\site-packages\\sklearn\\linear_model\\_coordinate_descent.py:529: ConvergenceWarning: Objective did not converge. You might want to increase the number of iterations. Duality gap: 32.31389995791451, tolerance: 0.009405835543766575\n",
      "  model = cd_fast.enet_coordinate_descent(\n"
     ]
    }
   ],
   "source": [
    "model= Lasso(alpha=0.0)\n",
    "\n",
    "#fit model\n",
    "model.fit(X_train5, y_train5)\n",
    "y_pred5 = model.predict(X_test5)\n",
    "MSE = metrics.mean_squared_error(y_test5,y_pred5)\n",
    "RMSE = np.sqrt(MSE)\n",
    "MAE = metrics.mean_absolute_error(y_test5,y_pred5)\n",
    "    \n",
    "r2=metrics.r2_score(y_test5,y_pred5)\n",
    "print(f\"RMSE: {round(RMSE, 4)}\")\n",
    "print(f\"MAE: {round(MAE, 4)}\")\n",
    "#print(f\"MAPE: {round(M_A_P_E, 4)} ({name})\")\n",
    "print(f\"r2: {round(r2, 4)} \")\n",
    "print(\"====================================\")"
   ]
  },
  {
   "cell_type": "code",
   "execution_count": 59,
   "metadata": {},
   "outputs": [],
   "source": [
    "#from sklearn.feature_selection import chi2\n",
    "#from sklearn.preprocessing import LabelEncoder\n",
    "\n",
    "\n",
    "#X= data.drop('treatment', axis=1).copy()\n",
    "#y= data['treatment']\n",
    "\n",
    "#y.shape\n",
    "#label_encoder= LabelEncoder()\n",
    "#a=label_encoder.fit_transform(X)\n",
    "#b=label_encoder.fit_transform(y)\n",
    "#chi_scores= chi2(a,b)\n",
    "#chi_scores"
   ]
  },
  {
   "cell_type": "code",
   "execution_count": null,
   "metadata": {},
   "outputs": [],
   "source": []
  },
  {
   "cell_type": "code",
   "execution_count": null,
   "metadata": {},
   "outputs": [],
   "source": []
  },
  {
   "cell_type": "code",
   "execution_count": null,
   "metadata": {},
   "outputs": [],
   "source": []
  },
  {
   "cell_type": "code",
   "execution_count": null,
   "metadata": {},
   "outputs": [],
   "source": []
  },
  {
   "cell_type": "code",
   "execution_count": null,
   "metadata": {},
   "outputs": [],
   "source": []
  },
  {
   "cell_type": "markdown",
   "metadata": {},
   "source": [
    "FEATURE SELECTION WITH LASSO REGRESSOR"
   ]
  },
  {
   "cell_type": "code",
   "execution_count": 60,
   "metadata": {},
   "outputs": [],
   "source": [
    "X7=data.drop('treatment', axis=1).values.copy()\n",
    "y7= data['treatment'].values"
   ]
  },
  {
   "cell_type": "code",
   "execution_count": 61,
   "metadata": {},
   "outputs": [],
   "source": [
    "#scale X7\n",
    "X7= scaler.fit_transform(X7)"
   ]
  },
  {
   "cell_type": "code",
   "execution_count": 62,
   "metadata": {},
   "outputs": [],
   "source": [
    "df= data.drop('treatment', axis=1).columns.copy()\n",
    "#df"
   ]
  },
  {
   "cell_type": "code",
   "execution_count": 63,
   "metadata": {},
   "outputs": [
    {
     "data": {
      "image/png": "[encoded data removed]",
      "text/plain": [
       "<Figure size 432x288 with 1 Axes>"
      ]
     },
     "metadata": {
      "needs_background": "light"
     },
     "output_type": "display_data"
    }
   ],
   "source": [
    "#define model\n",
    "model= Lasso(alpha=0.1)\n",
    "\n",
    "#fit model\n",
    "lasso_coef= model.fit(X7, y7).coef_\n",
    "\n",
    "\n",
    "#pyplot.bar([x for x in range(len(df))], lasso_coef)\n",
    "#pyplot.show()\n",
    "\n",
    "plt.plot(range(len(df)), lasso_coef)\n",
    "plt.xticks(range(len(df)), df, rotation=60)\n",
    "plt.ylabel(\"Coefficients\")\n",
    "plt.show()"
   ]
  },
  {
   "cell_type": "code",
   "execution_count": 64,
   "metadata": {},
   "outputs": [
    {
     "name": "stdout",
     "output_type": "stream",
     "text": [
      "[ 0.         -0.          0.          0.07927067  0.03600728  0.\n",
      "  0.         -0.          0.          0.         -0.          0.\n",
      " -0.         -0.         -0.          0.          0.         -0.\n",
      " -0.         -0.          0.         -0.          0.         -0.\n",
      " -0.         -0.         -0.         -0.         -0.         -0.\n",
      " -0.         -0.         -0.          0.         -0.         -0.\n",
      "  0.         -0.          0.         -0.         -0.         -0.\n",
      "  0.         -0.         -0.         -0.         -0.          0.\n",
      "  0.         -0.         -0.         -0.         -0.          0.\n",
      "  0.         -0.          0.          0.          0.          0.\n",
      " -0.          0.         -0.          0.         -0.          0.\n",
      "  0.          0.         -0.         -0.         -0.          0.\n",
      "  0.         -0.          0.         -0.          0.         -0.\n",
      "  0.         -0.         -0.          0.         -0.         -0.\n",
      "  0.          0.          0.         -0.          0.         -0.\n",
      " -0.         -0.         -0.         -0.          0.          0.\n",
      " -0.         -0.          0.          0.         -0.         -0.\n",
      " -0.         -0.          0.         -0.         -0.          0.02460659\n",
      " -0.         -0.          0.         -0.         -0.          0.\n",
      " -0.          0.          0.         -0.          0.         -0.\n",
      "  0.         -0.          0.         -0.          0.          0.\n",
      " -0.          0.         -0.         -0.          0.          0.\n",
      "  0.         -0.         -0.          0.          0.         -0.\n",
      "  0.          0.         -0.          0.          0.        ]\n"
     ]
    }
   ],
   "source": [
    "print(lasso_coef)"
   ]
  },
  {
   "cell_type": "code",
   "execution_count": 65,
   "metadata": {},
   "outputs": [
    {
     "data": {
      "text/plain": [
       "family_history    7.927067\n",
       "work_interfere    3.600728\n",
       "ca_Yes            2.460659\n",
       "mp_Yes            0.000000\n",
       "co_Romania       -0.000000\n",
       "                    ...   \n",
       "st_WV            -0.000000\n",
       "st_WY            -0.000000\n",
       "be_Don't know    -0.000000\n",
       "be_No            -0.000000\n",
       "Age               0.000000\n",
       "Length: 143, dtype: float64"
      ]
     },
     "execution_count": 65,
     "metadata": {},
     "output_type": "execute_result"
    }
   ],
   "source": [
    "Lasso_feature_imp= pd.Series(model.coef_, index= dt.columns).sort_values(ascending=False)\n",
    "Lasso_feature_imp*100"
   ]
  },
  {
   "cell_type": "code",
   "execution_count": 66,
   "metadata": {},
   "outputs": [
    {
     "data": {
      "text/plain": [
       "0.09782135839294008"
      ]
     },
     "execution_count": 66,
     "metadata": {},
     "output_type": "execute_result"
    }
   ],
   "source": [
    "Lasso_feature_imp.mean()*100"
   ]
  },
  {
   "cell_type": "code",
   "execution_count": 67,
   "metadata": {},
   "outputs": [],
   "source": [
    "\n",
    "X_train7, X_test7, y_train7, y_test7= train_test_split(X7, y7, test_size=0.70, random_state=45)"
   ]
  },
  {
   "cell_type": "code",
   "execution_count": 68,
   "metadata": {},
   "outputs": [
    {
     "name": "stdout",
     "output_type": "stream",
     "text": [
      "RMSE: 0.5006\n",
      "MAE: 0.5001\n",
      "r2: -0.0022 \n",
      "====================================\n"
     ]
    }
   ],
   "source": [
    "#When lasso is without a parameter\n",
    "model= Lasso()\n",
    "\n",
    "#fit model\n",
    "model.fit(X_train7, y_train7)\n",
    "y_pred7= model.predict(X_test7)\n",
    "MSE = metrics.mean_squared_error(y_test7,y_pred7)\n",
    "RMSE = np.sqrt(MSE)\n",
    "MAE = metrics.mean_absolute_error(y_test7,y_pred7)    \n",
    "r2=metrics.r2_score(y_test7,y_pred7)\n",
    "\n",
    "print(f\"RMSE: {round(RMSE, 4)}\")\n",
    "print(f\"MAE: {round(MAE, 4)}\")\n",
    "#print(f\"MAPE: {round(M_A_P_E, 4)} ({name})\")\n",
    "print(f\"r2: {round(r2, 4)} \")\n",
    "print(\"====================================\")"
   ]
  },
  {
   "cell_type": "code",
   "execution_count": 69,
   "metadata": {},
   "outputs": [
    {
     "name": "stderr",
     "output_type": "stream",
     "text": [
      "<ipython-input-69-74b994f17295>:5: UserWarning: With alpha=0, this algorithm does not converge well. You are advised to use the LinearRegression estimator\n",
      "  model.fit(X_train7, y_train7)\n",
      "C:\\Users\\Wommack\\Anaconda3\\Anaconda4\\lib\\site-packages\\sklearn\\linear_model\\_coordinate_descent.py:529: UserWarning: Coordinate descent with no regularization may lead to unexpected results and is discouraged.\n",
      "  model = cd_fast.enet_coordinate_descent(\n"
     ]
    },
    {
     "name": "stdout",
     "output_type": "stream",
     "text": [
      "RMSE: 952716.9658\n",
      "MAE: 33237.6959\n",
      "r2: -3630697136098.835 \n",
      "====================================\n"
     ]
    },
    {
     "name": "stderr",
     "output_type": "stream",
     "text": [
      "C:\\Users\\Wommack\\Anaconda3\\Anaconda4\\lib\\site-packages\\sklearn\\linear_model\\_coordinate_descent.py:529: ConvergenceWarning: Objective did not converge. You might want to increase the number of iterations. Duality gap: 23.407527539210385, tolerance: 0.009405835543766575\n",
      "  model = cd_fast.enet_coordinate_descent(\n"
     ]
    }
   ],
   "source": [
    "#When alpha= 0.0\n",
    "model= Lasso(alpha=0.0)\n",
    "\n",
    "#fit model\n",
    "model.fit(X_train7, y_train7)\n",
    "y_pred7= model.predict(X_test7)\n",
    "MSE = metrics.mean_squared_error(y_test7,y_pred7)\n",
    "RMSE = np.sqrt(MSE)\n",
    "MAE = metrics.mean_absolute_error(y_test7,y_pred7)    \n",
    "r2=metrics.r2_score(y_test7,y_pred7)\n",
    "\n",
    "print(f\"RMSE: {round(RMSE, 4)}\")\n",
    "print(f\"MAE: {round(MAE, 4)}\")\n",
    "#print(f\"MAPE: {round(M_A_P_E, 4)} ({name})\")\n",
    "print(f\"r2: {round(r2, 4)} \")\n",
    "print(\"====================================\")"
   ]
  },
  {
   "cell_type": "code",
   "execution_count": 70,
   "metadata": {},
   "outputs": [
    {
     "name": "stdout",
     "output_type": "stream",
     "text": [
      "RMSE: 0.4624\n",
      "MAE: 0.4515\n",
      "r2: 0.1448 \n",
      "====================================\n"
     ]
    }
   ],
   "source": [
    "#When lasso is without a parameter\n",
    "model= Lasso(alpha=0.1)\n",
    "\n",
    "#fit model\n",
    "model.fit(X_train7, y_train7)\n",
    "y_pred7= model.predict(X_test7)\n",
    "MSE = metrics.mean_squared_error(y_test7,y_pred7)\n",
    "RMSE = np.sqrt(MSE)\n",
    "MAE = metrics.mean_absolute_error(y_test7,y_pred7)    \n",
    "r2=metrics.r2_score(y_test7,y_pred7)\n",
    "\n",
    "print(f\"RMSE: {round(RMSE, 4)}\")\n",
    "print(f\"MAE: {round(MAE, 4)}\")\n",
    "#print(f\"MAPE: {round(M_A_P_E, 4)} ({name})\")\n",
    "print(f\"r2: {round(r2, 4)} \")\n",
    "print(\"====================================\")"
   ]
  },
  {
   "cell_type": "code",
   "execution_count": 71,
   "metadata": {},
   "outputs": [],
   "source": [
    "#split the dataset into features and labels\n",
    "X6= data[['work_interfere','family_history', 'ca_Yes']]\n",
    "y6=data['treatment']\n",
    "X_train6, X_test6, y_train6, y_test6= train_test_split(X6, y6, test_size=0.70, random_state=45)"
   ]
  },
  {
   "cell_type": "code",
   "execution_count": 72,
   "metadata": {},
   "outputs": [
    {
     "name": "stdout",
     "output_type": "stream",
     "text": [
      "RMSE: 0.4236\n",
      "MAE: 0.3384\n",
      "r2: 0.2822 \n",
      "====================================\n"
     ]
    }
   ],
   "source": [
    "model= RandomForestRegressor()\n",
    "\n",
    "#fit model\n",
    "model.fit(X_train6, y_train6)\n",
    "y_pred6 = model.predict(X_test6)\n",
    "MSE = metrics.mean_squared_error(y_test6,y_pred6)\n",
    "RMSE = np.sqrt(MSE)\n",
    "MAE = metrics.mean_absolute_error(y_test6,y_pred6)    \n",
    "r2=metrics.r2_score(y_test6,y_pred6)\n",
    "\n",
    "print(f\"RMSE: {round(RMSE, 4)}\")\n",
    "print(f\"MAE: {round(MAE, 4)}\")\n",
    "#print(f\"MAPE: {round(M_A_P_E, 4)} ({name})\")\n",
    "print(f\"r2: {round(r2, 4)} \")\n",
    "print(\"====================================\")"
   ]
  },
  {
   "cell_type": "code",
   "execution_count": 73,
   "metadata": {},
   "outputs": [
    {
     "name": "stdout",
     "output_type": "stream",
     "text": [
      "RMSE: 0.4366 (LR)\n",
      "MAE: 0.3714 (LR)\n",
      "r2: 0.2374 (LR)\n",
      "==============================================\n",
      "RMSE: 0.4365 (Ridge)\n",
      "MAE: 0.3721 (Ridge)\n",
      "r2: 0.2378 (Ridge)\n",
      "==============================================\n",
      "RMSE: 0.5006 (Lasso)\n",
      "MAE: 0.5001 (Lasso)\n",
      "r2: -0.0022 (Lasso)\n",
      "==============================================\n",
      "RMSE: 0.4505 (KNN)\n",
      "MAE: 0.3574 (KNN)\n",
      "r2: 0.188 (KNN)\n",
      "==============================================\n",
      "RMSE: 0.4234 (CART)\n",
      "MAE: 0.3403 (CART)\n",
      "r2: 0.2829 (CART)\n",
      "==============================================\n",
      "RMSE: 0.4243 (RF)\n",
      "MAE: 0.3414 (RF)\n",
      "r2: 0.28 (RF)\n",
      "==============================================\n",
      "RMSE: 0.5006 (RFC)\n",
      "MAE: 0.2506 (RFC)\n",
      "r2: -0.0023 (RFC)\n",
      "==============================================\n"
     ]
    }
   ],
   "source": [
    "for name, regressor in models:\n",
    "    modela = regressor\n",
    "    modela.fit(X_train6, y_train6)\n",
    "    y_pred6 = modela.predict(X_test6)\n",
    "    MSE = metrics.mean_squared_error(y_test6,y_pred6)\n",
    "    RMSE = np.sqrt(MSE)\n",
    "    MAE = metrics.mean_absolute_error(y_test6,y_pred6)\n",
    "    #M_A_P_E = MAPE(y_test1,y_pred1)\n",
    "    r2=metrics.r2_score(y_test6,y_pred6)\n",
    "    print(f\"RMSE: {round(RMSE, 4)} ({name})\")\n",
    "    print(f\"MAE: {round(MAE, 4)} ({name})\")\n",
    "    #print(f\"MAPE: {round(M_A_P_E, 4)} ({name})\")\n",
    "    print(f\"r2: {round(r2, 4)} ({name})\")\n",
    "    print(\"==============================================\")"
   ]
  },
  {
   "cell_type": "code",
   "execution_count": 74,
   "metadata": {},
   "outputs": [],
   "source": [
    "reg= RandomForestRegressor()"
   ]
  },
  {
   "cell_type": "code",
   "execution_count": 75,
   "metadata": {},
   "outputs": [
    {
     "name": "stdout",
     "output_type": "stream",
     "text": [
      "[100, 200, 300, 400, 500, 600, 700, 800, 900, 1000, 1100, 1200]\n"
     ]
    }
   ],
   "source": [
    "n_estimators= [int(x) for x in np.linspace(start= 100, stop= 1200, num=12)]\n",
    "print(n_estimators)"
   ]
  },
  {
   "cell_type": "code",
   "execution_count": 76,
   "metadata": {},
   "outputs": [],
   "source": [
    "from sklearn.model_selection import RandomizedSearchCV"
   ]
  },
  {
   "cell_type": "code",
   "execution_count": 77,
   "metadata": {},
   "outputs": [],
   "source": [
    "#Randomized Search CV\n",
    "\n",
    "#Number of trees in random forest\n",
    "n_estimators= [int(x) for x in np.linspace(start= 100, stop= 1200, num=12)]\n",
    "max_features=['auto', 'sqrt']\n",
    "#Maximum number of levels in tree\n",
    "max_depth=[int(x) for x in np.linspace(5,30, num=6)]\n",
    "#Minimum number of samples required to split a node\n",
    "min_samples_split=[2,5,10,15,100]\n",
    "#Minimum number of samples required at each leaf node\n",
    "min_samples_leaf=[1,2,5,10]"
   ]
  },
  {
   "cell_type": "code",
   "execution_count": 78,
   "metadata": {},
   "outputs": [
    {
     "name": "stdout",
     "output_type": "stream",
     "text": [
      "{'n_estimators': [100, 200, 300, 400, 500, 600, 700, 800, 900, 1000, 1100, 1200], 'max_features': ['auto', 'sqrt'], 'max_depth': [5, 10, 15, 20, 25, 30], 'min_samples_split': [2, 5, 10, 15, 100], 'min_samples_leaf': [1, 2, 5, 10]}\n"
     ]
    }
   ],
   "source": [
    "#Create the random grid\n",
    "random_grid= {\n",
    "    'n_estimators':n_estimators,\n",
    "    'max_features':max_features,\n",
    "    'max_depth': max_depth,\n",
    "    'min_samples_split': min_samples_split,\n",
    "    'min_samples_leaf': min_samples_leaf\n",
    "}\n",
    "\n",
    "print(random_grid)"
   ]
  },
  {
   "cell_type": "code",
   "execution_count": 79,
   "metadata": {},
   "outputs": [],
   "source": [
    "#Use the random grid search to search for best hyperparameters\n",
    "#first create the base model to tune\n",
    "\n",
    "rf= RandomForestRegressor()"
   ]
  },
  {
   "cell_type": "code",
   "execution_count": 80,
   "metadata": {},
   "outputs": [],
   "source": [
    "#Random search of parameters, using 3 fold cross validation\n",
    "#search across 100 different combinations\n",
    "rf_random= RandomizedSearchCV(estimator= rf, param_distributions= random_grid, scoring= 'neg_mean_squared_error', n_iter=10, cv=5, verbose= 2, random_state=2, n_jobs=1)"
   ]
  },
  {
   "cell_type": "code",
   "execution_count": 81,
   "metadata": {},
   "outputs": [],
   "source": [
    "#split the dataset into features and labels\n",
    "X8= data[['work_interfere','family_history', 'ca_Yes']]\n",
    "y8=data['treatment']\n",
    "X_train8, X_test8, y_train8, y_test8= train_test_split(X8, y8, test_size=0.70, random_state=45)"
   ]
  },
  {
   "cell_type": "code",
   "execution_count": 82,
   "metadata": {},
   "outputs": [
    {
     "name": "stderr",
     "output_type": "stream",
     "text": [
      "[Parallel(n_jobs=1)]: Using backend SequentialBackend with 1 concurrent workers.\n"
     ]
    },
    {
     "name": "stdout",
     "output_type": "stream",
     "text": [
      "Fitting 5 folds for each of 10 candidates, totalling 50 fits\n",
      "[CV] n_estimators=800, min_samples_split=100, min_samples_leaf=5, max_features=auto, max_depth=30 \n",
      "[CV]  n_estimators=800, min_samples_split=100, min_samples_leaf=5, max_features=auto, max_depth=30, total=   4.4s\n",
      "[CV] n_estimators=800, min_samples_split=100, min_samples_leaf=5, max_features=auto, max_depth=30 \n"
     ]
    },
    {
     "name": "stderr",
     "output_type": "stream",
     "text": [
      "[Parallel(n_jobs=1)]: Done   1 out of   1 | elapsed:    4.4s remaining:    0.0s\n"
     ]
    },
    {
     "name": "stdout",
     "output_type": "stream",
     "text": [
      "[CV]  n_estimators=800, min_samples_split=100, min_samples_leaf=5, max_features=auto, max_depth=30, total=   4.3s\n",
      "[CV] n_estimators=800, min_samples_split=100, min_samples_leaf=5, max_features=auto, max_depth=30 \n",
      "[CV]  n_estimators=800, min_samples_split=100, min_samples_leaf=5, max_features=auto, max_depth=30, total=   4.3s\n",
      "[CV] n_estimators=800, min_samples_split=100, min_samples_leaf=5, max_features=auto, max_depth=30 \n",
      "[CV]  n_estimators=800, min_samples_split=100, min_samples_leaf=5, max_features=auto, max_depth=30, total=   4.4s\n",
      "[CV] n_estimators=800, min_samples_split=100, min_samples_leaf=5, max_features=auto, max_depth=30 \n",
      "[CV]  n_estimators=800, min_samples_split=100, min_samples_leaf=5, max_features=auto, max_depth=30, total=   4.3s\n",
      "[CV] n_estimators=1000, min_samples_split=5, min_samples_leaf=5, max_features=auto, max_depth=30 \n",
      "[CV]  n_estimators=1000, min_samples_split=5, min_samples_leaf=5, max_features=auto, max_depth=30, total=   5.6s\n",
      "[CV] n_estimators=1000, min_samples_split=5, min_samples_leaf=5, max_features=auto, max_depth=30 \n",
      "[CV]  n_estimators=1000, min_samples_split=5, min_samples_leaf=5, max_features=auto, max_depth=30, total=   5.6s\n",
      "[CV] n_estimators=1000, min_samples_split=5, min_samples_leaf=5, max_features=auto, max_depth=30 \n",
      "[CV]  n_estimators=1000, min_samples_split=5, min_samples_leaf=5, max_features=auto, max_depth=30, total=   5.8s\n",
      "[CV] n_estimators=1000, min_samples_split=5, min_samples_leaf=5, max_features=auto, max_depth=30 \n",
      "[CV]  n_estimators=1000, min_samples_split=5, min_samples_leaf=5, max_features=auto, max_depth=30, total=   5.5s\n",
      "[CV] n_estimators=1000, min_samples_split=5, min_samples_leaf=5, max_features=auto, max_depth=30 \n",
      "[CV]  n_estimators=1000, min_samples_split=5, min_samples_leaf=5, max_features=auto, max_depth=30, total=   5.6s\n",
      "[CV] n_estimators=100, min_samples_split=100, min_samples_leaf=5, max_features=auto, max_depth=20 \n",
      "[CV]  n_estimators=100, min_samples_split=100, min_samples_leaf=5, max_features=auto, max_depth=20, total=   0.6s\n",
      "[CV] n_estimators=100, min_samples_split=100, min_samples_leaf=5, max_features=auto, max_depth=20 \n",
      "[CV]  n_estimators=100, min_samples_split=100, min_samples_leaf=5, max_features=auto, max_depth=20, total=   0.6s\n",
      "[CV] n_estimators=100, min_samples_split=100, min_samples_leaf=5, max_features=auto, max_depth=20 \n",
      "[CV]  n_estimators=100, min_samples_split=100, min_samples_leaf=5, max_features=auto, max_depth=20, total=   0.6s\n",
      "[CV] n_estimators=100, min_samples_split=100, min_samples_leaf=5, max_features=auto, max_depth=20 \n",
      "[CV]  n_estimators=100, min_samples_split=100, min_samples_leaf=5, max_features=auto, max_depth=20, total=   0.6s\n",
      "[CV] n_estimators=100, min_samples_split=100, min_samples_leaf=5, max_features=auto, max_depth=20 \n",
      "[CV]  n_estimators=100, min_samples_split=100, min_samples_leaf=5, max_features=auto, max_depth=20, total=   0.7s\n",
      "[CV] n_estimators=800, min_samples_split=2, min_samples_leaf=10, max_features=sqrt, max_depth=25 \n",
      "[CV]  n_estimators=800, min_samples_split=2, min_samples_leaf=10, max_features=sqrt, max_depth=25, total=   4.6s\n",
      "[CV] n_estimators=800, min_samples_split=2, min_samples_leaf=10, max_features=sqrt, max_depth=25 \n",
      "[CV]  n_estimators=800, min_samples_split=2, min_samples_leaf=10, max_features=sqrt, max_depth=25, total=   4.4s\n",
      "[CV] n_estimators=800, min_samples_split=2, min_samples_leaf=10, max_features=sqrt, max_depth=25 \n",
      "[CV]  n_estimators=800, min_samples_split=2, min_samples_leaf=10, max_features=sqrt, max_depth=25, total=   4.4s\n",
      "[CV] n_estimators=800, min_samples_split=2, min_samples_leaf=10, max_features=sqrt, max_depth=25 \n",
      "[CV]  n_estimators=800, min_samples_split=2, min_samples_leaf=10, max_features=sqrt, max_depth=25, total=   4.4s\n",
      "[CV] n_estimators=800, min_samples_split=2, min_samples_leaf=10, max_features=sqrt, max_depth=25 \n",
      "[CV]  n_estimators=800, min_samples_split=2, min_samples_leaf=10, max_features=sqrt, max_depth=25, total=   4.5s\n",
      "[CV] n_estimators=700, min_samples_split=100, min_samples_leaf=2, max_features=auto, max_depth=30 \n",
      "[CV]  n_estimators=700, min_samples_split=100, min_samples_leaf=2, max_features=auto, max_depth=30, total=   3.9s\n",
      "[CV] n_estimators=700, min_samples_split=100, min_samples_leaf=2, max_features=auto, max_depth=30 \n",
      "[CV]  n_estimators=700, min_samples_split=100, min_samples_leaf=2, max_features=auto, max_depth=30, total=   3.8s\n",
      "[CV] n_estimators=700, min_samples_split=100, min_samples_leaf=2, max_features=auto, max_depth=30 \n",
      "[CV]  n_estimators=700, min_samples_split=100, min_samples_leaf=2, max_features=auto, max_depth=30, total=   3.7s\n",
      "[CV] n_estimators=700, min_samples_split=100, min_samples_leaf=2, max_features=auto, max_depth=30 \n",
      "[CV]  n_estimators=700, min_samples_split=100, min_samples_leaf=2, max_features=auto, max_depth=30, total=   3.9s\n",
      "[CV] n_estimators=700, min_samples_split=100, min_samples_leaf=2, max_features=auto, max_depth=30 \n",
      "[CV]  n_estimators=700, min_samples_split=100, min_samples_leaf=2, max_features=auto, max_depth=30, total=   4.2s\n",
      "[CV] n_estimators=800, min_samples_split=5, min_samples_leaf=5, max_features=auto, max_depth=15 \n",
      "[CV]  n_estimators=800, min_samples_split=5, min_samples_leaf=5, max_features=auto, max_depth=15, total=   4.8s\n",
      "[CV] n_estimators=800, min_samples_split=5, min_samples_leaf=5, max_features=auto, max_depth=15 \n",
      "[CV]  n_estimators=800, min_samples_split=5, min_samples_leaf=5, max_features=auto, max_depth=15, total=   4.5s\n",
      "[CV] n_estimators=800, min_samples_split=5, min_samples_leaf=5, max_features=auto, max_depth=15 \n",
      "[CV]  n_estimators=800, min_samples_split=5, min_samples_leaf=5, max_features=auto, max_depth=15, total=   4.4s\n",
      "[CV] n_estimators=800, min_samples_split=5, min_samples_leaf=5, max_features=auto, max_depth=15 \n",
      "[CV]  n_estimators=800, min_samples_split=5, min_samples_leaf=5, max_features=auto, max_depth=15, total=   4.5s\n",
      "[CV] n_estimators=800, min_samples_split=5, min_samples_leaf=5, max_features=auto, max_depth=15 \n",
      "[CV]  n_estimators=800, min_samples_split=5, min_samples_leaf=5, max_features=auto, max_depth=15, total=   4.6s\n",
      "[CV] n_estimators=900, min_samples_split=2, min_samples_leaf=1, max_features=auto, max_depth=30 \n",
      "[CV]  n_estimators=900, min_samples_split=2, min_samples_leaf=1, max_features=auto, max_depth=30, total=   5.0s\n",
      "[CV] n_estimators=900, min_samples_split=2, min_samples_leaf=1, max_features=auto, max_depth=30 \n",
      "[CV]  n_estimators=900, min_samples_split=2, min_samples_leaf=1, max_features=auto, max_depth=30, total=   4.9s\n",
      "[CV] n_estimators=900, min_samples_split=2, min_samples_leaf=1, max_features=auto, max_depth=30 \n",
      "[CV]  n_estimators=900, min_samples_split=2, min_samples_leaf=1, max_features=auto, max_depth=30, total=   5.0s\n",
      "[CV] n_estimators=900, min_samples_split=2, min_samples_leaf=1, max_features=auto, max_depth=30 \n",
      "[CV]  n_estimators=900, min_samples_split=2, min_samples_leaf=1, max_features=auto, max_depth=30, total=   5.0s\n",
      "[CV] n_estimators=900, min_samples_split=2, min_samples_leaf=1, max_features=auto, max_depth=30 \n",
      "[CV]  n_estimators=900, min_samples_split=2, min_samples_leaf=1, max_features=auto, max_depth=30, total=   5.0s\n",
      "[CV] n_estimators=300, min_samples_split=5, min_samples_leaf=10, max_features=auto, max_depth=10 \n",
      "[CV]  n_estimators=300, min_samples_split=5, min_samples_leaf=10, max_features=auto, max_depth=10, total=   1.6s\n",
      "[CV] n_estimators=300, min_samples_split=5, min_samples_leaf=10, max_features=auto, max_depth=10 \n",
      "[CV]  n_estimators=300, min_samples_split=5, min_samples_leaf=10, max_features=auto, max_depth=10, total=   1.7s\n",
      "[CV] n_estimators=300, min_samples_split=5, min_samples_leaf=10, max_features=auto, max_depth=10 \n",
      "[CV]  n_estimators=300, min_samples_split=5, min_samples_leaf=10, max_features=auto, max_depth=10, total=   1.7s\n",
      "[CV] n_estimators=300, min_samples_split=5, min_samples_leaf=10, max_features=auto, max_depth=10 \n",
      "[CV]  n_estimators=300, min_samples_split=5, min_samples_leaf=10, max_features=auto, max_depth=10, total=   1.7s\n",
      "[CV] n_estimators=300, min_samples_split=5, min_samples_leaf=10, max_features=auto, max_depth=10 \n",
      "[CV]  n_estimators=300, min_samples_split=5, min_samples_leaf=10, max_features=auto, max_depth=10, total=   1.6s\n",
      "[CV] n_estimators=200, min_samples_split=5, min_samples_leaf=10, max_features=sqrt, max_depth=5 \n"
     ]
    },
    {
     "name": "stdout",
     "output_type": "stream",
     "text": [
      "[CV]  n_estimators=200, min_samples_split=5, min_samples_leaf=10, max_features=sqrt, max_depth=5, total=   1.1s\n",
      "[CV] n_estimators=200, min_samples_split=5, min_samples_leaf=10, max_features=sqrt, max_depth=5 \n",
      "[CV]  n_estimators=200, min_samples_split=5, min_samples_leaf=10, max_features=sqrt, max_depth=5, total=   1.1s\n",
      "[CV] n_estimators=200, min_samples_split=5, min_samples_leaf=10, max_features=sqrt, max_depth=5 \n",
      "[CV]  n_estimators=200, min_samples_split=5, min_samples_leaf=10, max_features=sqrt, max_depth=5, total=   1.1s\n",
      "[CV] n_estimators=200, min_samples_split=5, min_samples_leaf=10, max_features=sqrt, max_depth=5 \n",
      "[CV]  n_estimators=200, min_samples_split=5, min_samples_leaf=10, max_features=sqrt, max_depth=5, total=   1.1s\n",
      "[CV] n_estimators=200, min_samples_split=5, min_samples_leaf=10, max_features=sqrt, max_depth=5 \n",
      "[CV]  n_estimators=200, min_samples_split=5, min_samples_leaf=10, max_features=sqrt, max_depth=5, total=   1.1s\n",
      "[CV] n_estimators=400, min_samples_split=5, min_samples_leaf=1, max_features=sqrt, max_depth=30 \n",
      "[CV]  n_estimators=400, min_samples_split=5, min_samples_leaf=1, max_features=sqrt, max_depth=30, total=   2.2s\n",
      "[CV] n_estimators=400, min_samples_split=5, min_samples_leaf=1, max_features=sqrt, max_depth=30 \n",
      "[CV]  n_estimators=400, min_samples_split=5, min_samples_leaf=1, max_features=sqrt, max_depth=30, total=   2.3s\n",
      "[CV] n_estimators=400, min_samples_split=5, min_samples_leaf=1, max_features=sqrt, max_depth=30 \n",
      "[CV]  n_estimators=400, min_samples_split=5, min_samples_leaf=1, max_features=sqrt, max_depth=30, total=   2.2s\n",
      "[CV] n_estimators=400, min_samples_split=5, min_samples_leaf=1, max_features=sqrt, max_depth=30 \n",
      "[CV]  n_estimators=400, min_samples_split=5, min_samples_leaf=1, max_features=sqrt, max_depth=30, total=   2.2s\n",
      "[CV] n_estimators=400, min_samples_split=5, min_samples_leaf=1, max_features=sqrt, max_depth=30 \n",
      "[CV]  n_estimators=400, min_samples_split=5, min_samples_leaf=1, max_features=sqrt, max_depth=30, total=   2.2s\n"
     ]
    },
    {
     "name": "stderr",
     "output_type": "stream",
     "text": [
      "[Parallel(n_jobs=1)]: Done  50 out of  50 | elapsed:  2.8min finished\n"
     ]
    },
    {
     "data": {
      "text/plain": [
       "RandomizedSearchCV(cv=5, estimator=RandomForestRegressor(), n_jobs=1,\n",
       "                   param_distributions={'max_depth': [5, 10, 15, 20, 25, 30],\n",
       "                                        'max_features': ['auto', 'sqrt'],\n",
       "                                        'min_samples_leaf': [1, 2, 5, 10],\n",
       "                                        'min_samples_split': [2, 5, 10, 15,\n",
       "                                                              100],\n",
       "                                        'n_estimators': [100, 200, 300, 400,\n",
       "                                                         500, 600, 700, 800,\n",
       "                                                         900, 1000, 1100,\n",
       "                                                         1200]},\n",
       "                   random_state=2, scoring='neg_mean_squared_error', verbose=2)"
      ]
     },
     "execution_count": 82,
     "metadata": {},
     "output_type": "execute_result"
    }
   ],
   "source": [
    "rf_random.fit(X_train8, y_train8)"
   ]
  },
  {
   "cell_type": "code",
   "execution_count": 83,
   "metadata": {},
   "outputs": [
    {
     "data": {
      "text/plain": [
       "{'n_estimators': 800,\n",
       " 'min_samples_split': 5,\n",
       " 'min_samples_leaf': 5,\n",
       " 'max_features': 'auto',\n",
       " 'max_depth': 15}"
      ]
     },
     "execution_count": 83,
     "metadata": {},
     "output_type": "execute_result"
    }
   ],
   "source": [
    "rf_random.best_params_"
   ]
  },
  {
   "cell_type": "code",
   "execution_count": 84,
   "metadata": {},
   "outputs": [
    {
     "data": {
      "text/plain": [
       "-0.17999412967028852"
      ]
     },
     "execution_count": 84,
     "metadata": {},
     "output_type": "execute_result"
    }
   ],
   "source": [
    "rf_random.best_score_"
   ]
  },
  {
   "cell_type": "code",
   "execution_count": 85,
   "metadata": {},
   "outputs": [],
   "source": [
    "predictions=rf_random.predict(X_test8)"
   ]
  },
  {
   "cell_type": "code",
   "execution_count": 86,
   "metadata": {},
   "outputs": [
    {
     "name": "stderr",
     "output_type": "stream",
     "text": [
      "C:\\Users\\Wommack\\Anaconda3\\Anaconda4\\lib\\site-packages\\seaborn\\distributions.py:2551: FutureWarning: `distplot` is a deprecated function and will be removed in a future version. Please adapt your code to use either `displot` (a figure-level function with similar flexibility) or `histplot` (an axes-level function for histograms).\n",
      "  warnings.warn(msg, FutureWarning)\n"
     ]
    },
    {
     "data": {
      "text/plain": [
       "<AxesSubplot:xlabel='treatment', ylabel='Density'>"
      ]
     },
     "execution_count": 86,
     "metadata": {},
     "output_type": "execute_result"
    },
    {
     "data": {
      "image/png": "[encoded data removed]",
      "text/plain": [
       "<Figure size 432x288 with 1 Axes>"
      ]
     },
     "metadata": {
      "needs_background": "light"
     },
     "output_type": "display_data"
    }
   ],
   "source": [
    "import seaborn as sns\n",
    "sns.distplot(y_test8-predictions)"
   ]
  },
  {
   "cell_type": "code",
   "execution_count": 87,
   "metadata": {},
   "outputs": [
    {
     "data": {
      "text/plain": [
       "<matplotlib.collections.PathCollection at 0x21cc369f340>"
      ]
     },
     "execution_count": 87,
     "metadata": {},
     "output_type": "execute_result"
    },
    {
     "data": {
      "image/png": "[encoded data removed]",
      "text/plain": [
       "<Figure size 432x288 with 1 Axes>"
      ]
     },
     "metadata": {
      "needs_background": "light"
     },
     "output_type": "display_data"
    }
   ],
   "source": [
    "plt.scatter(y_test8, predictions)"
   ]
  },
  {
   "cell_type": "code",
   "execution_count": 88,
   "metadata": {},
   "outputs": [
    {
     "name": "stdout",
     "output_type": "stream",
     "text": [
      "RMSE: 0.4232\n",
      "MAE: 0.3435\n",
      "r2: 0.2838 \n",
      "====================================\n"
     ]
    }
   ],
   "source": [
    "MSE = metrics.mean_squared_error(y_test8,predictions)\n",
    "RMSE = np.sqrt(MSE)\n",
    "MAE = metrics.mean_absolute_error(y_test8,predictions)    \n",
    "r2=metrics.r2_score(y_test8,predictions)\n",
    "\n",
    "print(f\"RMSE: {round(RMSE, 4)}\")\n",
    "print(f\"MAE: {round(MAE, 4)}\")\n",
    "#print(f\"MAPE: {round(M_A_P_E, 4)} ({name})\")\n",
    "print(f\"r2: {round(r2, 4)} \")\n",
    "print(\"====================================\")"
   ]
  },
  {
   "cell_type": "code",
   "execution_count": null,
   "metadata": {},
   "outputs": [],
   "source": []
  },
  {
   "cell_type": "code",
   "execution_count": 89,
   "metadata": {},
   "outputs": [],
   "source": [
    "import pickle\n",
    "#open a file to store the data\n",
    "file=open('random_forest_regression_model.pkl', 'wb')\n",
    "\n",
    "#save the information in the file this way\n",
    "pickle.dump(rf_random, file)"
   ]
  },
  {
   "cell_type": "code",
   "execution_count": null,
   "metadata": {},
   "outputs": [],
   "source": []
  }
 ],
 "metadata": {
  "kernelspec": {
   "display_name": "Python 3",
   "language": "python",
   "name": "python3"
  },
  "language_info": {
   "codemirror_mode": {
    "name": "ipython",
    "version": 3
   },
   "file_extension": ".py",
   "mimetype": "text/x-python",
   "name": "python",
   "nbconvert_exporter": "python",
   "pygments_lexer": "ipython3",
   "version": "3.8.5"
  }
 },
 "nbformat": 4,
 "nbformat_minor": 4
}
